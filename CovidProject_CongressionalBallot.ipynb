{
 "cells": [
  {
   "cell_type": "code",
   "execution_count": 5,
   "metadata": {
    "jupyter": {
     "outputs_hidden": true
    }
   },
   "outputs": [
    {
     "data": {
      "text/html": [
       "<div>\n",
       "<style scoped>\n",
       "    .dataframe tbody tr th:only-of-type {\n",
       "        vertical-align: middle;\n",
       "    }\n",
       "\n",
       "    .dataframe tbody tr th {\n",
       "        vertical-align: top;\n",
       "    }\n",
       "\n",
       "    .dataframe thead th {\n",
       "        text-align: right;\n",
       "    }\n",
       "</style>\n",
       "<table border=\"1\" class=\"dataframe\">\n",
       "  <thead>\n",
       "    <tr style=\"text-align: right;\">\n",
       "      <th></th>\n",
       "      <th>subgroup</th>\n",
       "      <th>modeldate</th>\n",
       "      <th>startdate</th>\n",
       "      <th>enddate</th>\n",
       "      <th>pollster</th>\n",
       "      <th>grade</th>\n",
       "      <th>samplesize</th>\n",
       "      <th>population</th>\n",
       "      <th>weight</th>\n",
       "      <th>influence</th>\n",
       "      <th>...</th>\n",
       "      <th>rep</th>\n",
       "      <th>adjusted_dem</th>\n",
       "      <th>adjusted_rep</th>\n",
       "      <th>multiversions</th>\n",
       "      <th>tracking</th>\n",
       "      <th>url</th>\n",
       "      <th>poll_id</th>\n",
       "      <th>question_id</th>\n",
       "      <th>createddate</th>\n",
       "      <th>timestamp</th>\n",
       "    </tr>\n",
       "  </thead>\n",
       "  <tbody>\n",
       "    <tr>\n",
       "      <th>0</th>\n",
       "      <td>All polls</td>\n",
       "      <td>7/17/2020</td>\n",
       "      <td>11/30/2018</td>\n",
       "      <td>12/2/2018</td>\n",
       "      <td>Winston Group</td>\n",
       "      <td>B/C</td>\n",
       "      <td>1000</td>\n",
       "      <td>rv</td>\n",
       "      <td>0.753612</td>\n",
       "      <td>0.0</td>\n",
       "      <td>...</td>\n",
       "      <td>41.0</td>\n",
       "      <td>46.821674</td>\n",
       "      <td>41.274141</td>\n",
       "      <td>NaN</td>\n",
       "      <td>NaN</td>\n",
       "      <td>https://www.winningtheissues.org/wp-content/up...</td>\n",
       "      <td>66565</td>\n",
       "      <td>124055</td>\n",
       "      <td>5/29/2020</td>\n",
       "      <td>18:00:11 17 Jul 2020</td>\n",
       "    </tr>\n",
       "    <tr>\n",
       "      <th>1</th>\n",
       "      <td>All polls</td>\n",
       "      <td>7/17/2020</td>\n",
       "      <td>12/29/2018</td>\n",
       "      <td>12/30/2018</td>\n",
       "      <td>Winston Group</td>\n",
       "      <td>B/C</td>\n",
       "      <td>1000</td>\n",
       "      <td>rv</td>\n",
       "      <td>0.611841</td>\n",
       "      <td>0.0</td>\n",
       "      <td>...</td>\n",
       "      <td>41.0</td>\n",
       "      <td>47.821674</td>\n",
       "      <td>41.274141</td>\n",
       "      <td>NaN</td>\n",
       "      <td>NaN</td>\n",
       "      <td>https://www.winningtheissues.org/wp-content/up...</td>\n",
       "      <td>66581</td>\n",
       "      <td>124115</td>\n",
       "      <td>5/29/2020</td>\n",
       "      <td>18:00:11 17 Jul 2020</td>\n",
       "    </tr>\n",
       "    <tr>\n",
       "      <th>2</th>\n",
       "      <td>All polls</td>\n",
       "      <td>7/17/2020</td>\n",
       "      <td>12/31/2018</td>\n",
       "      <td>1/2/2019</td>\n",
       "      <td>HarrisX</td>\n",
       "      <td>C</td>\n",
       "      <td>3012</td>\n",
       "      <td>rv</td>\n",
       "      <td>0.032487</td>\n",
       "      <td>0.0</td>\n",
       "      <td>...</td>\n",
       "      <td>35.0</td>\n",
       "      <td>49.910864</td>\n",
       "      <td>39.819588</td>\n",
       "      <td>NaN</td>\n",
       "      <td>T</td>\n",
       "      <td>https://scottrasmussen.com/generic-ballot-daily/</td>\n",
       "      <td>57208</td>\n",
       "      <td>92471</td>\n",
       "      <td>1/3/2019</td>\n",
       "      <td>18:00:11 17 Jul 2020</td>\n",
       "    </tr>\n",
       "    <tr>\n",
       "      <th>3</th>\n",
       "      <td>All polls</td>\n",
       "      <td>7/17/2020</td>\n",
       "      <td>1/1/2019</td>\n",
       "      <td>1/3/2019</td>\n",
       "      <td>HarrisX</td>\n",
       "      <td>C</td>\n",
       "      <td>3012</td>\n",
       "      <td>rv</td>\n",
       "      <td>0.031667</td>\n",
       "      <td>0.0</td>\n",
       "      <td>...</td>\n",
       "      <td>35.0</td>\n",
       "      <td>48.910864</td>\n",
       "      <td>39.819588</td>\n",
       "      <td>NaN</td>\n",
       "      <td>T</td>\n",
       "      <td>https://scottrasmussen.com/generic-ballot-daily/</td>\n",
       "      <td>57218</td>\n",
       "      <td>92479</td>\n",
       "      <td>1/4/2019</td>\n",
       "      <td>18:00:11 17 Jul 2020</td>\n",
       "    </tr>\n",
       "    <tr>\n",
       "      <th>4</th>\n",
       "      <td>All polls</td>\n",
       "      <td>7/17/2020</td>\n",
       "      <td>1/2/2019</td>\n",
       "      <td>1/4/2019</td>\n",
       "      <td>HarrisX</td>\n",
       "      <td>C</td>\n",
       "      <td>3003</td>\n",
       "      <td>rv</td>\n",
       "      <td>0.030810</td>\n",
       "      <td>0.0</td>\n",
       "      <td>...</td>\n",
       "      <td>36.0</td>\n",
       "      <td>47.910864</td>\n",
       "      <td>40.819588</td>\n",
       "      <td>NaN</td>\n",
       "      <td>T</td>\n",
       "      <td>https://scottrasmussen.com/generic-ballot-daily/</td>\n",
       "      <td>57221</td>\n",
       "      <td>92483</td>\n",
       "      <td>1/5/2019</td>\n",
       "      <td>18:00:11 17 Jul 2020</td>\n",
       "    </tr>\n",
       "  </tbody>\n",
       "</table>\n",
       "<p>5 rows × 21 columns</p>\n",
       "</div>"
      ],
      "text/plain": [
       "    subgroup  modeldate   startdate     enddate       pollster grade  \\\n",
       "0  All polls  7/17/2020  11/30/2018   12/2/2018  Winston Group   B/C   \n",
       "1  All polls  7/17/2020  12/29/2018  12/30/2018  Winston Group   B/C   \n",
       "2  All polls  7/17/2020  12/31/2018    1/2/2019        HarrisX     C   \n",
       "3  All polls  7/17/2020    1/1/2019    1/3/2019        HarrisX     C   \n",
       "4  All polls  7/17/2020    1/2/2019    1/4/2019        HarrisX     C   \n",
       "\n",
       "   samplesize population    weight  influence  ...   rep  adjusted_dem  \\\n",
       "0        1000         rv  0.753612        0.0  ...  41.0     46.821674   \n",
       "1        1000         rv  0.611841        0.0  ...  41.0     47.821674   \n",
       "2        3012         rv  0.032487        0.0  ...  35.0     49.910864   \n",
       "3        3012         rv  0.031667        0.0  ...  35.0     48.910864   \n",
       "4        3003         rv  0.030810        0.0  ...  36.0     47.910864   \n",
       "\n",
       "   adjusted_rep  multiversions tracking  \\\n",
       "0     41.274141            NaN      NaN   \n",
       "1     41.274141            NaN      NaN   \n",
       "2     39.819588            NaN        T   \n",
       "3     39.819588            NaN        T   \n",
       "4     40.819588            NaN        T   \n",
       "\n",
       "                                                 url poll_id  question_id  \\\n",
       "0  https://www.winningtheissues.org/wp-content/up...   66565       124055   \n",
       "1  https://www.winningtheissues.org/wp-content/up...   66581       124115   \n",
       "2   https://scottrasmussen.com/generic-ballot-daily/   57208        92471   \n",
       "3   https://scottrasmussen.com/generic-ballot-daily/   57218        92479   \n",
       "4   https://scottrasmussen.com/generic-ballot-daily/   57221        92483   \n",
       "\n",
       "   createddate             timestamp  \n",
       "0    5/29/2020  18:00:11 17 Jul 2020  \n",
       "1    5/29/2020  18:00:11 17 Jul 2020  \n",
       "2     1/3/2019  18:00:11 17 Jul 2020  \n",
       "3     1/4/2019  18:00:11 17 Jul 2020  \n",
       "4     1/5/2019  18:00:11 17 Jul 2020  \n",
       "\n",
       "[5 rows x 21 columns]"
      ]
     },
     "execution_count": 5,
     "metadata": {},
     "output_type": "execute_result"
    }
   ],
   "source": [
    "# Dependencies and Setup\n",
    "import matplotlib.pyplot as plt\n",
    "from matplotlib.pylab import rcParams\n",
    "import pandas as pd\n",
    "import numpy as np\n",
    "from scipy.stats import linregress\n",
    "rcParams['figure.figsize'] = 14,10\n",
    "plt.style.use('ggplot')\n",
    "plt.style.use('seaborn')\n",
    "\n",
    "# NY Times Data\n",
    "generic_ballot = \"../Approval_ratings /generic_polllist.csv\"\n",
    "us_counties = \"../covid_data/us-counties.csv\"\n",
    "us_states = \"../covid_data/us-states.csv\"\n",
    "us_total = \"../covid_data/us.csv\"\n",
    "general_ballot = pd.read_csv(generic_ballot)\n",
    "counties = pd.read_csv(us_counties)\n",
    "states = pd.read_csv(us_states)\n",
    "us = pd.read_csv(us_total)\n",
    "\n",
    "general_ballot.head()"
   ]
  },
  {
   "cell_type": "code",
   "execution_count": 6,
   "metadata": {},
   "outputs": [
    {
     "data": {
      "text/plain": [
       "<matplotlib.axes._subplots.AxesSubplot at 0x1a23b88208>"
      ]
     },
     "execution_count": 6,
     "metadata": {},
     "output_type": "execute_result"
    },
    {
     "data": {
      "image/png": "[encoded data removed]",
      "text/plain": [
       "<Figure size 576x396 with 1 Axes>"
      ]
     },
     "metadata": {},
     "output_type": "display_data"
    },
    {
     "data": {
      "image/png": "[encoded data removed]",
      "text/plain": [
       "<Figure size 576x396 with 1 Axes>"
      ]
     },
     "metadata": {},
     "output_type": "display_data"
    }
   ],
   "source": [
    "# created a new collumn named 'change' that calculates the difference in percent of generic ballot by taking the difference between the dem and rep totals. This will be graphed below.\n",
    "general_ballot['gap'] = (general_ballot['adjusted_dem']-general_ballot['adjusted_rep'])\n",
    "\n",
    "\n",
    "general_ballot['enddate'] = pd.to_datetime(general_ballot['enddate'])\n",
    "\n",
    "generic_ballot_2020 = general_ballot.loc[general_ballot['enddate'] >= '2020-1-20']\n",
    "\n",
    "#This groups the survey data by enddate and takes the mean if there are multiple survey enddates on the same day\n",
    "\n",
    "generic_ballot_2020.groupby('enddate').aggregate({'adjusted_dem': 'mean', 'adjusted_rep': 'mean'})\n",
    "generic_ballot_2020.plot(x='enddate', y=['adjusted_rep', 'adjusted_dem'], title= 'Dem/Rep Ballot Percent');\n",
    "\n",
    "# Charting Difference Between Dem/Rep Generic Ballot Since Start of Covid\n",
    "generic_ballot_2020.plot(x='enddate', y='gap', title='Difference between Dem and Republican Share')"
   ]
  },
  {
   "cell_type": "code",
   "execution_count": 7,
   "metadata": {},
   "outputs": [
    {
     "data": {
      "text/html": [
       "<div>\n",
       "<style scoped>\n",
       "    .dataframe tbody tr th:only-of-type {\n",
       "        vertical-align: middle;\n",
       "    }\n",
       "\n",
       "    .dataframe tbody tr th {\n",
       "        vertical-align: top;\n",
       "    }\n",
       "\n",
       "    .dataframe thead th {\n",
       "        text-align: right;\n",
       "    }\n",
       "</style>\n",
       "<table border=\"1\" class=\"dataframe\">\n",
       "  <thead>\n",
       "    <tr style=\"text-align: right;\">\n",
       "      <th></th>\n",
       "      <th>date</th>\n",
       "      <th>deaths</th>\n",
       "      <th>date_adj</th>\n",
       "    </tr>\n",
       "  </thead>\n",
       "  <tbody>\n",
       "    <tr>\n",
       "      <th>0</th>\n",
       "      <td>2020-01-21</td>\n",
       "      <td>0</td>\n",
       "      <td>2020-01-21</td>\n",
       "    </tr>\n",
       "    <tr>\n",
       "      <th>1</th>\n",
       "      <td>2020-01-22</td>\n",
       "      <td>0</td>\n",
       "      <td>2020-01-22</td>\n",
       "    </tr>\n",
       "    <tr>\n",
       "      <th>2</th>\n",
       "      <td>2020-01-23</td>\n",
       "      <td>0</td>\n",
       "      <td>2020-01-23</td>\n",
       "    </tr>\n",
       "    <tr>\n",
       "      <th>3</th>\n",
       "      <td>2020-01-24</td>\n",
       "      <td>0</td>\n",
       "      <td>2020-01-24</td>\n",
       "    </tr>\n",
       "    <tr>\n",
       "      <th>4</th>\n",
       "      <td>2020-01-25</td>\n",
       "      <td>0</td>\n",
       "      <td>2020-01-25</td>\n",
       "    </tr>\n",
       "  </tbody>\n",
       "</table>\n",
       "</div>"
      ],
      "text/plain": [
       "         date  deaths   date_adj\n",
       "0  2020-01-21       0 2020-01-21\n",
       "1  2020-01-22       0 2020-01-22\n",
       "2  2020-01-23       0 2020-01-23\n",
       "3  2020-01-24       0 2020-01-24\n",
       "4  2020-01-25       0 2020-01-25"
      ]
     },
     "execution_count": 7,
     "metadata": {},
     "output_type": "execute_result"
    }
   ],
   "source": [
    "# shrinking us dataframe to only dates and deaths for our graphs\n",
    "cases_death = us[['date','deaths']]\n",
    "cases_death['date_adj']  = pd.to_datetime(cases_death['date'])\n",
    "cases_death.head(5)"
   ]
  },
  {
   "cell_type": "code",
   "execution_count": 8,
   "metadata": {},
   "outputs": [
    {
     "data": {
      "text/html": [
       "<div>\n",
       "<style scoped>\n",
       "    .dataframe tbody tr th:only-of-type {\n",
       "        vertical-align: middle;\n",
       "    }\n",
       "\n",
       "    .dataframe tbody tr th {\n",
       "        vertical-align: top;\n",
       "    }\n",
       "\n",
       "    .dataframe thead th {\n",
       "        text-align: right;\n",
       "    }\n",
       "</style>\n",
       "<table border=\"1\" class=\"dataframe\">\n",
       "  <thead>\n",
       "    <tr style=\"text-align: right;\">\n",
       "      <th></th>\n",
       "      <th>date</th>\n",
       "      <th>cases</th>\n",
       "      <th>deaths</th>\n",
       "      <th>subgroup</th>\n",
       "      <th>modeldate</th>\n",
       "      <th>startdate</th>\n",
       "      <th>pollster</th>\n",
       "      <th>grade</th>\n",
       "      <th>samplesize</th>\n",
       "      <th>weight</th>\n",
       "      <th>influence</th>\n",
       "      <th>dem</th>\n",
       "      <th>rep</th>\n",
       "      <th>adjusted_dem</th>\n",
       "      <th>adjusted_rep</th>\n",
       "      <th>gap</th>\n",
       "    </tr>\n",
       "  </thead>\n",
       "  <tbody>\n",
       "    <tr>\n",
       "      <th>0</th>\n",
       "      <td>2020-01-21</td>\n",
       "      <td>1</td>\n",
       "      <td>0</td>\n",
       "      <td>All polls</td>\n",
       "      <td>7/17/2020</td>\n",
       "      <td>1/19/2020</td>\n",
       "      <td>YouGov</td>\n",
       "      <td>B</td>\n",
       "      <td>1176</td>\n",
       "      <td>0.202099</td>\n",
       "      <td>0.003336</td>\n",
       "      <td>44.0</td>\n",
       "      <td>43.0</td>\n",
       "      <td>44.322521</td>\n",
       "      <td>43.841741</td>\n",
       "      <td>0.480780</td>\n",
       "    </tr>\n",
       "    <tr>\n",
       "      <th>1</th>\n",
       "      <td>2020-01-26</td>\n",
       "      <td>5</td>\n",
       "      <td>0</td>\n",
       "      <td>All polls</td>\n",
       "      <td>7/17/2020</td>\n",
       "      <td>1/24/2020</td>\n",
       "      <td>Morning Consult</td>\n",
       "      <td>B/C</td>\n",
       "      <td>1992</td>\n",
       "      <td>0.300257</td>\n",
       "      <td>0.006563</td>\n",
       "      <td>45.0</td>\n",
       "      <td>39.0</td>\n",
       "      <td>47.673395</td>\n",
       "      <td>41.538390</td>\n",
       "      <td>6.135005</td>\n",
       "    </tr>\n",
       "    <tr>\n",
       "      <th>2</th>\n",
       "      <td>2020-01-28</td>\n",
       "      <td>5</td>\n",
       "      <td>0</td>\n",
       "      <td>All polls</td>\n",
       "      <td>7/17/2020</td>\n",
       "      <td>1/26/2020</td>\n",
       "      <td>YouGov</td>\n",
       "      <td>B</td>\n",
       "      <td>1182</td>\n",
       "      <td>0.200788</td>\n",
       "      <td>0.004808</td>\n",
       "      <td>48.0</td>\n",
       "      <td>39.0</td>\n",
       "      <td>48.322521</td>\n",
       "      <td>39.841741</td>\n",
       "      <td>8.480780</td>\n",
       "    </tr>\n",
       "    <tr>\n",
       "      <th>3</th>\n",
       "      <td>2020-01-29</td>\n",
       "      <td>5</td>\n",
       "      <td>0</td>\n",
       "      <td>All polls</td>\n",
       "      <td>7/17/2020</td>\n",
       "      <td>1/26/2020</td>\n",
       "      <td>NBC News/The Wall Street Journal</td>\n",
       "      <td>A-</td>\n",
       "      <td>1000</td>\n",
       "      <td>1.436950</td>\n",
       "      <td>0.054071</td>\n",
       "      <td>49.0</td>\n",
       "      <td>43.0</td>\n",
       "      <td>48.611492</td>\n",
       "      <td>42.338398</td>\n",
       "      <td>6.273094</td>\n",
       "    </tr>\n",
       "    <tr>\n",
       "      <th>4</th>\n",
       "      <td>2020-02-04</td>\n",
       "      <td>11</td>\n",
       "      <td>0</td>\n",
       "      <td>All polls</td>\n",
       "      <td>7/17/2020</td>\n",
       "      <td>2/2/2020</td>\n",
       "      <td>YouGov</td>\n",
       "      <td>B</td>\n",
       "      <td>1277</td>\n",
       "      <td>0.214305</td>\n",
       "      <td>0.006728</td>\n",
       "      <td>48.0</td>\n",
       "      <td>41.0</td>\n",
       "      <td>48.322521</td>\n",
       "      <td>41.841741</td>\n",
       "      <td>6.480780</td>\n",
       "    </tr>\n",
       "    <tr>\n",
       "      <th>5</th>\n",
       "      <td>2020-02-09</td>\n",
       "      <td>12</td>\n",
       "      <td>0</td>\n",
       "      <td>All polls</td>\n",
       "      <td>7/17/2020</td>\n",
       "      <td>2/7/2020</td>\n",
       "      <td>Morning Consult</td>\n",
       "      <td>B/C</td>\n",
       "      <td>1996</td>\n",
       "      <td>0.279777</td>\n",
       "      <td>0.011107</td>\n",
       "      <td>45.0</td>\n",
       "      <td>41.0</td>\n",
       "      <td>47.673395</td>\n",
       "      <td>43.538390</td>\n",
       "      <td>4.135005</td>\n",
       "    </tr>\n",
       "    <tr>\n",
       "      <th>6</th>\n",
       "      <td>2020-02-11</td>\n",
       "      <td>13</td>\n",
       "      <td>0</td>\n",
       "      <td>All polls</td>\n",
       "      <td>7/17/2020</td>\n",
       "      <td>2/7/2020</td>\n",
       "      <td>McLaughlin &amp; Associates</td>\n",
       "      <td>C/D</td>\n",
       "      <td>1000</td>\n",
       "      <td>0.488257</td>\n",
       "      <td>0.019228</td>\n",
       "      <td>47.0</td>\n",
       "      <td>45.0</td>\n",
       "      <td>48.016850</td>\n",
       "      <td>42.001568</td>\n",
       "      <td>6.015282</td>\n",
       "    </tr>\n",
       "    <tr>\n",
       "      <th>7</th>\n",
       "      <td>2020-02-11</td>\n",
       "      <td>13</td>\n",
       "      <td>0</td>\n",
       "      <td>All polls</td>\n",
       "      <td>7/17/2020</td>\n",
       "      <td>2/9/2020</td>\n",
       "      <td>YouGov</td>\n",
       "      <td>B</td>\n",
       "      <td>1140</td>\n",
       "      <td>0.189365</td>\n",
       "      <td>0.007359</td>\n",
       "      <td>48.0</td>\n",
       "      <td>40.0</td>\n",
       "      <td>48.322521</td>\n",
       "      <td>40.841741</td>\n",
       "      <td>7.480780</td>\n",
       "    </tr>\n",
       "    <tr>\n",
       "      <th>8</th>\n",
       "      <td>2020-02-16</td>\n",
       "      <td>15</td>\n",
       "      <td>0</td>\n",
       "      <td>All polls</td>\n",
       "      <td>7/17/2020</td>\n",
       "      <td>2/13/2020</td>\n",
       "      <td>Marist College</td>\n",
       "      <td>A+</td>\n",
       "      <td>1164</td>\n",
       "      <td>2.159829</td>\n",
       "      <td>0.151321</td>\n",
       "      <td>48.0</td>\n",
       "      <td>40.0</td>\n",
       "      <td>48.961005</td>\n",
       "      <td>40.271317</td>\n",
       "      <td>8.689688</td>\n",
       "    </tr>\n",
       "    <tr>\n",
       "      <th>9</th>\n",
       "      <td>2020-02-18</td>\n",
       "      <td>25</td>\n",
       "      <td>0</td>\n",
       "      <td>All polls</td>\n",
       "      <td>7/17/2020</td>\n",
       "      <td>2/16/2020</td>\n",
       "      <td>YouGov</td>\n",
       "      <td>B</td>\n",
       "      <td>1150</td>\n",
       "      <td>0.189133</td>\n",
       "      <td>0.008785</td>\n",
       "      <td>48.0</td>\n",
       "      <td>41.0</td>\n",
       "      <td>48.322521</td>\n",
       "      <td>41.841741</td>\n",
       "      <td>6.480780</td>\n",
       "    </tr>\n",
       "    <tr>\n",
       "      <th>10</th>\n",
       "      <td>2020-02-23</td>\n",
       "      <td>30</td>\n",
       "      <td>0</td>\n",
       "      <td>All polls</td>\n",
       "      <td>7/17/2020</td>\n",
       "      <td>2/21/2020</td>\n",
       "      <td>Morning Consult</td>\n",
       "      <td>B/C</td>\n",
       "      <td>1992</td>\n",
       "      <td>0.272433</td>\n",
       "      <td>0.015976</td>\n",
       "      <td>45.0</td>\n",
       "      <td>39.0</td>\n",
       "      <td>47.673395</td>\n",
       "      <td>41.538390</td>\n",
       "      <td>6.135005</td>\n",
       "    </tr>\n",
       "    <tr>\n",
       "      <th>11</th>\n",
       "      <td>2020-02-25</td>\n",
       "      <td>45</td>\n",
       "      <td>0</td>\n",
       "      <td>All polls</td>\n",
       "      <td>7/17/2020</td>\n",
       "      <td>2/23/2020</td>\n",
       "      <td>YouGov</td>\n",
       "      <td>B</td>\n",
       "      <td>1184</td>\n",
       "      <td>0.192860</td>\n",
       "      <td>0.010451</td>\n",
       "      <td>48.0</td>\n",
       "      <td>40.0</td>\n",
       "      <td>48.322521</td>\n",
       "      <td>40.841741</td>\n",
       "      <td>7.480780</td>\n",
       "    </tr>\n",
       "    <tr>\n",
       "      <th>12</th>\n",
       "      <td>2020-02-27</td>\n",
       "      <td>60</td>\n",
       "      <td>0</td>\n",
       "      <td>All polls</td>\n",
       "      <td>7/17/2020</td>\n",
       "      <td>2/26/2020</td>\n",
       "      <td>YouGov</td>\n",
       "      <td>B</td>\n",
       "      <td>1662</td>\n",
       "      <td>0.270534</td>\n",
       "      <td>0.015530</td>\n",
       "      <td>51.0</td>\n",
       "      <td>40.0</td>\n",
       "      <td>51.322521</td>\n",
       "      <td>40.841741</td>\n",
       "      <td>10.480780</td>\n",
       "    </tr>\n",
       "    <tr>\n",
       "      <th>13</th>\n",
       "      <td>2020-03-03</td>\n",
       "      <td>125</td>\n",
       "      <td>10</td>\n",
       "      <td>All polls</td>\n",
       "      <td>7/17/2020</td>\n",
       "      <td>3/1/2020</td>\n",
       "      <td>YouGov</td>\n",
       "      <td>B</td>\n",
       "      <td>1134</td>\n",
       "      <td>0.185551</td>\n",
       "      <td>0.011403</td>\n",
       "      <td>51.0</td>\n",
       "      <td>38.0</td>\n",
       "      <td>51.322521</td>\n",
       "      <td>38.841741</td>\n",
       "      <td>12.480780</td>\n",
       "    </tr>\n",
       "    <tr>\n",
       "      <th>14</th>\n",
       "      <td>2020-03-07</td>\n",
       "      <td>428</td>\n",
       "      <td>19</td>\n",
       "      <td>All polls</td>\n",
       "      <td>7/17/2020</td>\n",
       "      <td>3/4/2020</td>\n",
       "      <td>CNN/SSRS</td>\n",
       "      <td>B/C</td>\n",
       "      <td>1084</td>\n",
       "      <td>1.350816</td>\n",
       "      <td>0.146162</td>\n",
       "      <td>53.0</td>\n",
       "      <td>44.0</td>\n",
       "      <td>51.389090</td>\n",
       "      <td>42.786568</td>\n",
       "      <td>8.602522</td>\n",
       "    </tr>\n",
       "    <tr>\n",
       "      <th>15</th>\n",
       "      <td>2020-03-08</td>\n",
       "      <td>547</td>\n",
       "      <td>22</td>\n",
       "      <td>All polls</td>\n",
       "      <td>7/17/2020</td>\n",
       "      <td>3/6/2020</td>\n",
       "      <td>Morning Consult</td>\n",
       "      <td>B/C</td>\n",
       "      <td>1992</td>\n",
       "      <td>0.275418</td>\n",
       "      <td>0.021391</td>\n",
       "      <td>46.0</td>\n",
       "      <td>40.0</td>\n",
       "      <td>48.673395</td>\n",
       "      <td>42.538390</td>\n",
       "      <td>6.135005</td>\n",
       "    </tr>\n",
       "    <tr>\n",
       "      <th>16</th>\n",
       "      <td>2020-03-10</td>\n",
       "      <td>1018</td>\n",
       "      <td>31</td>\n",
       "      <td>All polls</td>\n",
       "      <td>7/17/2020</td>\n",
       "      <td>3/8/2020</td>\n",
       "      <td>YouGov</td>\n",
       "      <td>B</td>\n",
       "      <td>1191</td>\n",
       "      <td>0.198067</td>\n",
       "      <td>0.014235</td>\n",
       "      <td>47.0</td>\n",
       "      <td>42.0</td>\n",
       "      <td>47.322521</td>\n",
       "      <td>42.841741</td>\n",
       "      <td>4.480780</td>\n",
       "    </tr>\n",
       "  </tbody>\n",
       "</table>\n",
       "</div>"
      ],
      "text/plain": [
       "         date  cases  deaths   subgroup  modeldate  startdate  \\\n",
       "0  2020-01-21      1       0  All polls  7/17/2020  1/19/2020   \n",
       "1  2020-01-26      5       0  All polls  7/17/2020  1/24/2020   \n",
       "2  2020-01-28      5       0  All polls  7/17/2020  1/26/2020   \n",
       "3  2020-01-29      5       0  All polls  7/17/2020  1/26/2020   \n",
       "4  2020-02-04     11       0  All polls  7/17/2020   2/2/2020   \n",
       "5  2020-02-09     12       0  All polls  7/17/2020   2/7/2020   \n",
       "6  2020-02-11     13       0  All polls  7/17/2020   2/7/2020   \n",
       "7  2020-02-11     13       0  All polls  7/17/2020   2/9/2020   \n",
       "8  2020-02-16     15       0  All polls  7/17/2020  2/13/2020   \n",
       "9  2020-02-18     25       0  All polls  7/17/2020  2/16/2020   \n",
       "10 2020-02-23     30       0  All polls  7/17/2020  2/21/2020   \n",
       "11 2020-02-25     45       0  All polls  7/17/2020  2/23/2020   \n",
       "12 2020-02-27     60       0  All polls  7/17/2020  2/26/2020   \n",
       "13 2020-03-03    125      10  All polls  7/17/2020   3/1/2020   \n",
       "14 2020-03-07    428      19  All polls  7/17/2020   3/4/2020   \n",
       "15 2020-03-08    547      22  All polls  7/17/2020   3/6/2020   \n",
       "16 2020-03-10   1018      31  All polls  7/17/2020   3/8/2020   \n",
       "\n",
       "                            pollster grade  samplesize    weight  influence  \\\n",
       "0                             YouGov     B        1176  0.202099   0.003336   \n",
       "1                    Morning Consult   B/C        1992  0.300257   0.006563   \n",
       "2                             YouGov     B        1182  0.200788   0.004808   \n",
       "3   NBC News/The Wall Street Journal    A-        1000  1.436950   0.054071   \n",
       "4                             YouGov     B        1277  0.214305   0.006728   \n",
       "5                    Morning Consult   B/C        1996  0.279777   0.011107   \n",
       "6            McLaughlin & Associates   C/D        1000  0.488257   0.019228   \n",
       "7                             YouGov     B        1140  0.189365   0.007359   \n",
       "8                     Marist College    A+        1164  2.159829   0.151321   \n",
       "9                             YouGov     B        1150  0.189133   0.008785   \n",
       "10                   Morning Consult   B/C        1992  0.272433   0.015976   \n",
       "11                            YouGov     B        1184  0.192860   0.010451   \n",
       "12                            YouGov     B        1662  0.270534   0.015530   \n",
       "13                            YouGov     B        1134  0.185551   0.011403   \n",
       "14                          CNN/SSRS   B/C        1084  1.350816   0.146162   \n",
       "15                   Morning Consult   B/C        1992  0.275418   0.021391   \n",
       "16                            YouGov     B        1191  0.198067   0.014235   \n",
       "\n",
       "     dem   rep  adjusted_dem  adjusted_rep        gap  \n",
       "0   44.0  43.0     44.322521     43.841741   0.480780  \n",
       "1   45.0  39.0     47.673395     41.538390   6.135005  \n",
       "2   48.0  39.0     48.322521     39.841741   8.480780  \n",
       "3   49.0  43.0     48.611492     42.338398   6.273094  \n",
       "4   48.0  41.0     48.322521     41.841741   6.480780  \n",
       "5   45.0  41.0     47.673395     43.538390   4.135005  \n",
       "6   47.0  45.0     48.016850     42.001568   6.015282  \n",
       "7   48.0  40.0     48.322521     40.841741   7.480780  \n",
       "8   48.0  40.0     48.961005     40.271317   8.689688  \n",
       "9   48.0  41.0     48.322521     41.841741   6.480780  \n",
       "10  45.0  39.0     47.673395     41.538390   6.135005  \n",
       "11  48.0  40.0     48.322521     40.841741   7.480780  \n",
       "12  51.0  40.0     51.322521     40.841741  10.480780  \n",
       "13  51.0  38.0     51.322521     38.841741  12.480780  \n",
       "14  53.0  44.0     51.389090     42.786568   8.602522  \n",
       "15  46.0  40.0     48.673395     42.538390   6.135005  \n",
       "16  47.0  42.0     47.322521     42.841741   4.480780  "
      ]
     },
     "execution_count": 8,
     "metadata": {},
     "output_type": "execute_result"
    }
   ],
   "source": [
    "# Scatter Plot of Deaths vs General Ballot\n",
    "# First create one dataframe to get \n",
    "gen_ballot = generic_ballot_2020.rename(columns={'enddate': 'date'})\n",
    "us['date'] = pd.to_datetime(us['date'])\n",
    "\n",
    "\n",
    "ballot_covid_deaths = us.merge(gen_ballot, on=['date'])\n",
    "ballot_covid_deaths.drop(columns=['url', 'population', 'multiversions', 'tracking', 'poll_id', 'question_id', 'timestamp', 'createddate'], inplace=True)\n",
    "ballot_covid_deaths.head(17)"
   ]
  },
  {
   "cell_type": "code",
   "execution_count": 9,
   "metadata": {},
   "outputs": [
    {
     "data": {
      "text/html": [
       "<div>\n",
       "<style scoped>\n",
       "    .dataframe tbody tr th:only-of-type {\n",
       "        vertical-align: middle;\n",
       "    }\n",
       "\n",
       "    .dataframe tbody tr th {\n",
       "        vertical-align: top;\n",
       "    }\n",
       "\n",
       "    .dataframe thead th {\n",
       "        text-align: right;\n",
       "    }\n",
       "</style>\n",
       "<table border=\"1\" class=\"dataframe\">\n",
       "  <thead>\n",
       "    <tr style=\"text-align: right;\">\n",
       "      <th></th>\n",
       "      <th>pollster</th>\n",
       "    </tr>\n",
       "  </thead>\n",
       "  <tbody>\n",
       "    <tr>\n",
       "      <th>0</th>\n",
       "      <td>YouGov</td>\n",
       "    </tr>\n",
       "    <tr>\n",
       "      <th>1</th>\n",
       "      <td>Morning Consult</td>\n",
       "    </tr>\n",
       "    <tr>\n",
       "      <th>2</th>\n",
       "      <td>YouGov</td>\n",
       "    </tr>\n",
       "    <tr>\n",
       "      <th>3</th>\n",
       "      <td>NBC News/The Wall Street Journal</td>\n",
       "    </tr>\n",
       "    <tr>\n",
       "      <th>4</th>\n",
       "      <td>YouGov</td>\n",
       "    </tr>\n",
       "  </tbody>\n",
       "</table>\n",
       "</div>"
      ],
      "text/plain": [
       "                           pollster\n",
       "0                            YouGov\n",
       "1                   Morning Consult\n",
       "2                            YouGov\n",
       "3  NBC News/The Wall Street Journal\n",
       "4                            YouGov"
      ]
     },
     "execution_count": 9,
     "metadata": {},
     "output_type": "execute_result"
    }
   ],
   "source": [
    "df_general_ballot = ballot_covid_deaths[['pollster']]\n",
    "df_general_ballot.head(5)"
   ]
  },
  {
   "cell_type": "code",
   "execution_count": 10,
   "metadata": {},
   "outputs": [
    {
     "data": {
      "text/html": [
       "<div>\n",
       "<style scoped>\n",
       "    .dataframe tbody tr th:only-of-type {\n",
       "        vertical-align: middle;\n",
       "    }\n",
       "\n",
       "    .dataframe tbody tr th {\n",
       "        vertical-align: top;\n",
       "    }\n",
       "\n",
       "    .dataframe thead th {\n",
       "        text-align: right;\n",
       "    }\n",
       "</style>\n",
       "<table border=\"1\" class=\"dataframe\">\n",
       "  <thead>\n",
       "    <tr style=\"text-align: right;\">\n",
       "      <th></th>\n",
       "      <th>date</th>\n",
       "      <th>cases</th>\n",
       "      <th>deaths</th>\n",
       "      <th>subgroup</th>\n",
       "      <th>modeldate</th>\n",
       "      <th>startdate</th>\n",
       "      <th>pollster</th>\n",
       "      <th>grade</th>\n",
       "      <th>samplesize</th>\n",
       "      <th>weight</th>\n",
       "      <th>influence</th>\n",
       "      <th>dem</th>\n",
       "      <th>rep</th>\n",
       "      <th>adjusted_dem</th>\n",
       "      <th>adjusted_rep</th>\n",
       "      <th>gap</th>\n",
       "    </tr>\n",
       "  </thead>\n",
       "  <tbody>\n",
       "    <tr>\n",
       "      <th>22</th>\n",
       "      <td>2020-03-28</td>\n",
       "      <td>123966</td>\n",
       "      <td>2300</td>\n",
       "      <td>All polls</td>\n",
       "      <td>7/17/2020</td>\n",
       "      <td>3/21/2020</td>\n",
       "      <td>Firehouse Strategies/Øptimus</td>\n",
       "      <td>B/C</td>\n",
       "      <td>1032</td>\n",
       "      <td>0.275823</td>\n",
       "      <td>0.039162</td>\n",
       "      <td>47.0</td>\n",
       "      <td>36.6</td>\n",
       "      <td>49.089754</td>\n",
       "      <td>38.443659</td>\n",
       "      <td>10.646095</td>\n",
       "    </tr>\n",
       "    <tr>\n",
       "      <th>25</th>\n",
       "      <td>2020-04-04</td>\n",
       "      <td>312525</td>\n",
       "      <td>9488</td>\n",
       "      <td>All polls</td>\n",
       "      <td>7/17/2020</td>\n",
       "      <td>3/28/2020</td>\n",
       "      <td>Firehouse Strategies/Øptimus</td>\n",
       "      <td>B/C</td>\n",
       "      <td>937</td>\n",
       "      <td>0.226814</td>\n",
       "      <td>0.039168</td>\n",
       "      <td>46.5</td>\n",
       "      <td>37.5</td>\n",
       "      <td>48.589754</td>\n",
       "      <td>39.343659</td>\n",
       "      <td>9.246095</td>\n",
       "    </tr>\n",
       "    <tr>\n",
       "      <th>28</th>\n",
       "      <td>2020-04-10</td>\n",
       "      <td>499381</td>\n",
       "      <td>21084</td>\n",
       "      <td>All polls</td>\n",
       "      <td>7/17/2020</td>\n",
       "      <td>4/4/2020</td>\n",
       "      <td>Firehouse Strategies/Øptimus</td>\n",
       "      <td>B/C</td>\n",
       "      <td>814</td>\n",
       "      <td>0.091054</td>\n",
       "      <td>0.017976</td>\n",
       "      <td>43.8</td>\n",
       "      <td>37.0</td>\n",
       "      <td>45.889754</td>\n",
       "      <td>38.843659</td>\n",
       "      <td>7.046095</td>\n",
       "    </tr>\n",
       "    <tr>\n",
       "      <th>29</th>\n",
       "      <td>2020-04-14</td>\n",
       "      <td>610709</td>\n",
       "      <td>29318</td>\n",
       "      <td>All polls</td>\n",
       "      <td>7/17/2020</td>\n",
       "      <td>4/7/2020</td>\n",
       "      <td>Firehouse Strategies/Øptimus</td>\n",
       "      <td>B/C</td>\n",
       "      <td>732</td>\n",
       "      <td>0.092321</td>\n",
       "      <td>0.019753</td>\n",
       "      <td>46.8</td>\n",
       "      <td>35.3</td>\n",
       "      <td>48.889754</td>\n",
       "      <td>37.143659</td>\n",
       "      <td>11.746095</td>\n",
       "    </tr>\n",
       "    <tr>\n",
       "      <th>31</th>\n",
       "      <td>2020-04-18</td>\n",
       "      <td>732262</td>\n",
       "      <td>38659</td>\n",
       "      <td>All polls</td>\n",
       "      <td>7/17/2020</td>\n",
       "      <td>4/11/2020</td>\n",
       "      <td>Firehouse Strategies/Øptimus</td>\n",
       "      <td>B/C</td>\n",
       "      <td>745</td>\n",
       "      <td>0.068489</td>\n",
       "      <td>0.015766</td>\n",
       "      <td>45.8</td>\n",
       "      <td>38.0</td>\n",
       "      <td>47.889754</td>\n",
       "      <td>39.843659</td>\n",
       "      <td>8.046095</td>\n",
       "    </tr>\n",
       "    <tr>\n",
       "      <th>36</th>\n",
       "      <td>2020-04-21</td>\n",
       "      <td>810434</td>\n",
       "      <td>44688</td>\n",
       "      <td>All polls</td>\n",
       "      <td>7/17/2020</td>\n",
       "      <td>4/14/2020</td>\n",
       "      <td>Firehouse Strategies/Øptimus</td>\n",
       "      <td>B/C</td>\n",
       "      <td>829</td>\n",
       "      <td>0.099665</td>\n",
       "      <td>0.024164</td>\n",
       "      <td>44.5</td>\n",
       "      <td>37.8</td>\n",
       "      <td>46.589754</td>\n",
       "      <td>39.643659</td>\n",
       "      <td>6.946095</td>\n",
       "    </tr>\n",
       "    <tr>\n",
       "      <th>38</th>\n",
       "      <td>2020-04-25</td>\n",
       "      <td>944184</td>\n",
       "      <td>53326</td>\n",
       "      <td>All polls</td>\n",
       "      <td>7/17/2020</td>\n",
       "      <td>4/18/2020</td>\n",
       "      <td>Firehouse Strategies/Øptimus</td>\n",
       "      <td>B/C</td>\n",
       "      <td>784</td>\n",
       "      <td>0.069350</td>\n",
       "      <td>0.017898</td>\n",
       "      <td>46.1</td>\n",
       "      <td>36.1</td>\n",
       "      <td>48.189754</td>\n",
       "      <td>37.943659</td>\n",
       "      <td>10.246095</td>\n",
       "    </tr>\n",
       "    <tr>\n",
       "      <th>40</th>\n",
       "      <td>2020-04-28</td>\n",
       "      <td>1018741</td>\n",
       "      <td>58416</td>\n",
       "      <td>All polls</td>\n",
       "      <td>7/17/2020</td>\n",
       "      <td>4/21/2020</td>\n",
       "      <td>Firehouse Strategies/Øptimus</td>\n",
       "      <td>B/C</td>\n",
       "      <td>766</td>\n",
       "      <td>0.089218</td>\n",
       "      <td>0.024076</td>\n",
       "      <td>46.2</td>\n",
       "      <td>37.7</td>\n",
       "      <td>48.289754</td>\n",
       "      <td>39.543659</td>\n",
       "      <td>8.746095</td>\n",
       "    </tr>\n",
       "    <tr>\n",
       "      <th>42</th>\n",
       "      <td>2020-05-02</td>\n",
       "      <td>1139075</td>\n",
       "      <td>66485</td>\n",
       "      <td>All polls</td>\n",
       "      <td>7/17/2020</td>\n",
       "      <td>4/25/2020</td>\n",
       "      <td>Firehouse Strategies/Øptimus</td>\n",
       "      <td>B/C</td>\n",
       "      <td>765</td>\n",
       "      <td>0.065928</td>\n",
       "      <td>0.018829</td>\n",
       "      <td>46.2</td>\n",
       "      <td>37.4</td>\n",
       "      <td>48.289754</td>\n",
       "      <td>39.243659</td>\n",
       "      <td>9.046095</td>\n",
       "    </tr>\n",
       "    <tr>\n",
       "      <th>45</th>\n",
       "      <td>2020-05-05</td>\n",
       "      <td>1210881</td>\n",
       "      <td>71139</td>\n",
       "      <td>All polls</td>\n",
       "      <td>7/17/2020</td>\n",
       "      <td>4/28/2020</td>\n",
       "      <td>Firehouse Strategies/Øptimus</td>\n",
       "      <td>B/C</td>\n",
       "      <td>758</td>\n",
       "      <td>0.086287</td>\n",
       "      <td>0.025691</td>\n",
       "      <td>45.8</td>\n",
       "      <td>37.2</td>\n",
       "      <td>47.889754</td>\n",
       "      <td>39.043659</td>\n",
       "      <td>8.846095</td>\n",
       "    </tr>\n",
       "    <tr>\n",
       "      <th>47</th>\n",
       "      <td>2020-05-09</td>\n",
       "      <td>1316351</td>\n",
       "      <td>78834</td>\n",
       "      <td>All polls</td>\n",
       "      <td>7/17/2020</td>\n",
       "      <td>5/2/2020</td>\n",
       "      <td>Firehouse Strategies/Øptimus</td>\n",
       "      <td>B/C</td>\n",
       "      <td>726</td>\n",
       "      <td>0.061542</td>\n",
       "      <td>0.019282</td>\n",
       "      <td>45.9</td>\n",
       "      <td>39.0</td>\n",
       "      <td>47.989754</td>\n",
       "      <td>40.843659</td>\n",
       "      <td>7.146095</td>\n",
       "    </tr>\n",
       "    <tr>\n",
       "      <th>48</th>\n",
       "      <td>2020-05-12</td>\n",
       "      <td>1376585</td>\n",
       "      <td>82400</td>\n",
       "      <td>All polls</td>\n",
       "      <td>7/17/2020</td>\n",
       "      <td>5/5/2020</td>\n",
       "      <td>Firehouse Strategies/Øptimus</td>\n",
       "      <td>B/C</td>\n",
       "      <td>728</td>\n",
       "      <td>0.081881</td>\n",
       "      <td>0.026645</td>\n",
       "      <td>46.0</td>\n",
       "      <td>37.7</td>\n",
       "      <td>48.089754</td>\n",
       "      <td>39.543659</td>\n",
       "      <td>8.546095</td>\n",
       "    </tr>\n",
       "    <tr>\n",
       "      <th>50</th>\n",
       "      <td>2020-05-16</td>\n",
       "      <td>1474569</td>\n",
       "      <td>88724</td>\n",
       "      <td>All polls</td>\n",
       "      <td>7/17/2020</td>\n",
       "      <td>5/9/2020</td>\n",
       "      <td>Firehouse Strategies/Øptimus</td>\n",
       "      <td>B/C</td>\n",
       "      <td>780</td>\n",
       "      <td>0.065792</td>\n",
       "      <td>0.024141</td>\n",
       "      <td>44.4</td>\n",
       "      <td>35.9</td>\n",
       "      <td>46.489754</td>\n",
       "      <td>37.743659</td>\n",
       "      <td>8.746095</td>\n",
       "    </tr>\n",
       "    <tr>\n",
       "      <th>51</th>\n",
       "      <td>2020-05-19</td>\n",
       "      <td>1536371</td>\n",
       "      <td>91934</td>\n",
       "      <td>All polls</td>\n",
       "      <td>7/17/2020</td>\n",
       "      <td>5/12/2020</td>\n",
       "      <td>Firehouse Strategies/Øptimus</td>\n",
       "      <td>B/C</td>\n",
       "      <td>774</td>\n",
       "      <td>0.087387</td>\n",
       "      <td>0.034733</td>\n",
       "      <td>45.0</td>\n",
       "      <td>36.1</td>\n",
       "      <td>47.089754</td>\n",
       "      <td>37.943659</td>\n",
       "      <td>9.146095</td>\n",
       "    </tr>\n",
       "    <tr>\n",
       "      <th>53</th>\n",
       "      <td>2020-05-23</td>\n",
       "      <td>1631229</td>\n",
       "      <td>97060</td>\n",
       "      <td>All polls</td>\n",
       "      <td>7/17/2020</td>\n",
       "      <td>5/16/2020</td>\n",
       "      <td>Firehouse Strategies/Øptimus</td>\n",
       "      <td>B/C</td>\n",
       "      <td>766</td>\n",
       "      <td>0.065401</td>\n",
       "      <td>0.028667</td>\n",
       "      <td>46.5</td>\n",
       "      <td>38.2</td>\n",
       "      <td>48.589754</td>\n",
       "      <td>40.043659</td>\n",
       "      <td>8.546095</td>\n",
       "    </tr>\n",
       "    <tr>\n",
       "      <th>54</th>\n",
       "      <td>2020-05-26</td>\n",
       "      <td>1689248</td>\n",
       "      <td>98937</td>\n",
       "      <td>All polls</td>\n",
       "      <td>7/17/2020</td>\n",
       "      <td>5/19/2020</td>\n",
       "      <td>Firehouse Strategies/Øptimus</td>\n",
       "      <td>B/C</td>\n",
       "      <td>793</td>\n",
       "      <td>0.091118</td>\n",
       "      <td>0.042710</td>\n",
       "      <td>46.5</td>\n",
       "      <td>38.6</td>\n",
       "      <td>48.589754</td>\n",
       "      <td>40.443659</td>\n",
       "      <td>8.146095</td>\n",
       "    </tr>\n",
       "  </tbody>\n",
       "</table>\n",
       "</div>"
      ],
      "text/plain": [
       "         date    cases  deaths   subgroup  modeldate  startdate  \\\n",
       "22 2020-03-28   123966    2300  All polls  7/17/2020  3/21/2020   \n",
       "25 2020-04-04   312525    9488  All polls  7/17/2020  3/28/2020   \n",
       "28 2020-04-10   499381   21084  All polls  7/17/2020   4/4/2020   \n",
       "29 2020-04-14   610709   29318  All polls  7/17/2020   4/7/2020   \n",
       "31 2020-04-18   732262   38659  All polls  7/17/2020  4/11/2020   \n",
       "36 2020-04-21   810434   44688  All polls  7/17/2020  4/14/2020   \n",
       "38 2020-04-25   944184   53326  All polls  7/17/2020  4/18/2020   \n",
       "40 2020-04-28  1018741   58416  All polls  7/17/2020  4/21/2020   \n",
       "42 2020-05-02  1139075   66485  All polls  7/17/2020  4/25/2020   \n",
       "45 2020-05-05  1210881   71139  All polls  7/17/2020  4/28/2020   \n",
       "47 2020-05-09  1316351   78834  All polls  7/17/2020   5/2/2020   \n",
       "48 2020-05-12  1376585   82400  All polls  7/17/2020   5/5/2020   \n",
       "50 2020-05-16  1474569   88724  All polls  7/17/2020   5/9/2020   \n",
       "51 2020-05-19  1536371   91934  All polls  7/17/2020  5/12/2020   \n",
       "53 2020-05-23  1631229   97060  All polls  7/17/2020  5/16/2020   \n",
       "54 2020-05-26  1689248   98937  All polls  7/17/2020  5/19/2020   \n",
       "\n",
       "                        pollster grade  samplesize    weight  influence   dem  \\\n",
       "22  Firehouse Strategies/Øptimus   B/C        1032  0.275823   0.039162  47.0   \n",
       "25  Firehouse Strategies/Øptimus   B/C         937  0.226814   0.039168  46.5   \n",
       "28  Firehouse Strategies/Øptimus   B/C         814  0.091054   0.017976  43.8   \n",
       "29  Firehouse Strategies/Øptimus   B/C         732  0.092321   0.019753  46.8   \n",
       "31  Firehouse Strategies/Øptimus   B/C         745  0.068489   0.015766  45.8   \n",
       "36  Firehouse Strategies/Øptimus   B/C         829  0.099665   0.024164  44.5   \n",
       "38  Firehouse Strategies/Øptimus   B/C         784  0.069350   0.017898  46.1   \n",
       "40  Firehouse Strategies/Øptimus   B/C         766  0.089218   0.024076  46.2   \n",
       "42  Firehouse Strategies/Øptimus   B/C         765  0.065928   0.018829  46.2   \n",
       "45  Firehouse Strategies/Øptimus   B/C         758  0.086287   0.025691  45.8   \n",
       "47  Firehouse Strategies/Øptimus   B/C         726  0.061542   0.019282  45.9   \n",
       "48  Firehouse Strategies/Øptimus   B/C         728  0.081881   0.026645  46.0   \n",
       "50  Firehouse Strategies/Øptimus   B/C         780  0.065792   0.024141  44.4   \n",
       "51  Firehouse Strategies/Øptimus   B/C         774  0.087387   0.034733  45.0   \n",
       "53  Firehouse Strategies/Øptimus   B/C         766  0.065401   0.028667  46.5   \n",
       "54  Firehouse Strategies/Øptimus   B/C         793  0.091118   0.042710  46.5   \n",
       "\n",
       "     rep  adjusted_dem  adjusted_rep        gap  \n",
       "22  36.6     49.089754     38.443659  10.646095  \n",
       "25  37.5     48.589754     39.343659   9.246095  \n",
       "28  37.0     45.889754     38.843659   7.046095  \n",
       "29  35.3     48.889754     37.143659  11.746095  \n",
       "31  38.0     47.889754     39.843659   8.046095  \n",
       "36  37.8     46.589754     39.643659   6.946095  \n",
       "38  36.1     48.189754     37.943659  10.246095  \n",
       "40  37.7     48.289754     39.543659   8.746095  \n",
       "42  37.4     48.289754     39.243659   9.046095  \n",
       "45  37.2     47.889754     39.043659   8.846095  \n",
       "47  39.0     47.989754     40.843659   7.146095  \n",
       "48  37.7     48.089754     39.543659   8.546095  \n",
       "50  35.9     46.489754     37.743659   8.746095  \n",
       "51  36.1     47.089754     37.943659   9.146095  \n",
       "53  38.2     48.589754     40.043659   8.546095  \n",
       "54  38.6     48.589754     40.443659   8.146095  "
      ]
     },
     "execution_count": 10,
     "metadata": {},
     "output_type": "execute_result"
    }
   ],
   "source": [
    "YouGov = ballot_covid_deaths.loc[ballot_covid_deaths['pollster'] == 'YouGov']\n",
    "Morning_Consult = ballot_covid_deaths.loc[ballot_covid_deaths['pollster'] == 'Morning Consult']\n",
    "McLaughlin_Associates = ballot_covid_deaths.loc[ballot_covid_deaths['pollster'] == 'McLaughlin & Associates']\n",
    "Marist_College = ballot_covid_deaths.loc[ballot_covid_deaths['pollster'] == 'Marist_College']\n",
    "CNN_SSRS = ballot_covid_deaths.loc[ballot_covid_deaths['pollster'] == 'CNN/SSRS']\n",
    "RMG_Research = ballot_covid_deaths.loc[ballot_covid_deaths['pollster'] == 'RMG Research']\n",
    "NBC_News_The_Wall_Street_Journal = ballot_covid_deaths.loc[ballot_covid_deaths['pollster'] == 'NBC News/The Wall Street Journal']\n",
    "Democracy_Fund_UCLA_Nationscape = ballot_covid_deaths.loc[ballot_covid_deaths['pollster'] == 'Democracy Fund + UCLA Nationscape']\n",
    "Climate_Nexus = ballot_covid_deaths.loc[ballot_covid_deaths['pollster'] == 'Climate Nexus']\n",
    "Øptimus = ballot_covid_deaths.loc[ballot_covid_deaths['pollster'] == 'Øptimus']\n",
    "Firehouse_Strategies_Øptimus = ballot_covid_deaths.loc[ballot_covid_deaths['pollster'] == 'Firehouse Strategies/Øptimus']\n",
    "elzer_Co = ballot_covid_deaths.loc[ballot_covid_deaths['pollster'] == 'Selzer & Co.']\n",
    "Monmouth_University = ballot_covid_deaths.loc[ballot_covid_deaths['pollster'] == 'Monmouth University']\n",
    "Firehouse_Strategies_Øptimus"
   ]
  },
  {
   "cell_type": "code",
   "execution_count": 13,
   "metadata": {},
   "outputs": [],
   "source": [
    "x_data = Firehouse_Strategies_Øptimus[['date']]\n",
    "y_data = Firehouse_Strategies_Øptimus[['adjusted_rep']]\n",
    "y_data_deaths = Firehouse_Strategies_Øptimus[['deaths']]"
   ]
  },
  {
   "cell_type": "code",
   "execution_count": 15,
   "metadata": {},
   "outputs": [
    {
     "data": {
      "image/png": "[encoded data removed]",
      "text/plain": [
       "<Figure size 576x396 with 1 Axes>"
      ]
     },
     "metadata": {},
     "output_type": "display_data"
    }
   ],
   "source": [
    "plt.scatter(x = x_data, y = y_data)\n",
    "plt.title('Firehouse Strategies/Øptimus');"
   ]
  },
  {
   "cell_type": "code",
   "execution_count": 16,
   "metadata": {},
   "outputs": [
    {
     "data": {
      "text/plain": [
       "<matplotlib.axes._subplots.AxesSubplot at 0x1a23bd7cc0>"
      ]
     },
     "execution_count": 16,
     "metadata": {},
     "output_type": "execute_result"
    },
    {
     "data": {
      "image/png": "[encoded data removed]",
      "text/plain": [
       "<Figure size 576x396 with 1 Axes>"
      ]
     },
     "metadata": {},
     "output_type": "display_data"
    },
    {
     "data": {
      "image/png": "[encoded data removed]",
      "text/plain": [
       "<Figure size 576x396 with 1 Axes>"
      ]
     },
     "metadata": {},
     "output_type": "display_data"
    },
    {
     "data": {
      "image/png": "[encoded data removed]",
      "text/plain": [
       "<Figure size 576x396 with 1 Axes>"
      ]
     },
     "metadata": {},
     "output_type": "display_data"
    },
    {
     "data": {
      "image/png": "[encoded data removed]",
      "text/plain": [
       "<Figure size 576x396 with 1 Axes>"
      ]
     },
     "metadata": {},
     "output_type": "display_data"
    }
   ],
   "source": [
    "Firehouse_Strategies_Øptimus.plot.bar(y=['dem', 'rep'], x='date', stacked=True); Firehouse_Strategies_Øptimus.plot(y='gap', x='date')\n",
    "YouGov.plot.bar(y=['dem', 'rep'], x='date'); McLaughlin_Associates.plot(y=['dem', 'rep'], x='date')"
   ]
  },
  {
   "cell_type": "code",
   "execution_count": 17,
   "metadata": {},
   "outputs": [
    {
     "data": {
      "text/html": [
       "<div>\n",
       "<style scoped>\n",
       "    .dataframe tbody tr th:only-of-type {\n",
       "        vertical-align: middle;\n",
       "    }\n",
       "\n",
       "    .dataframe tbody tr th {\n",
       "        vertical-align: top;\n",
       "    }\n",
       "\n",
       "    .dataframe thead th {\n",
       "        text-align: right;\n",
       "    }\n",
       "</style>\n",
       "<table border=\"1\" class=\"dataframe\">\n",
       "  <thead>\n",
       "    <tr style=\"text-align: right;\">\n",
       "      <th></th>\n",
       "      <th>date</th>\n",
       "      <th>deaths</th>\n",
       "      <th>adjusted_dem</th>\n",
       "      <th>adjusted_rep</th>\n",
       "    </tr>\n",
       "  </thead>\n",
       "  <tbody>\n",
       "    <tr>\n",
       "      <th>0</th>\n",
       "      <td>2020-01-21</td>\n",
       "      <td>0</td>\n",
       "      <td>44.322521</td>\n",
       "      <td>43.841741</td>\n",
       "    </tr>\n",
       "    <tr>\n",
       "      <th>1</th>\n",
       "      <td>2020-01-26</td>\n",
       "      <td>0</td>\n",
       "      <td>47.673395</td>\n",
       "      <td>41.538390</td>\n",
       "    </tr>\n",
       "    <tr>\n",
       "      <th>2</th>\n",
       "      <td>2020-01-28</td>\n",
       "      <td>0</td>\n",
       "      <td>48.322521</td>\n",
       "      <td>39.841741</td>\n",
       "    </tr>\n",
       "    <tr>\n",
       "      <th>3</th>\n",
       "      <td>2020-01-29</td>\n",
       "      <td>0</td>\n",
       "      <td>48.611492</td>\n",
       "      <td>42.338398</td>\n",
       "    </tr>\n",
       "    <tr>\n",
       "      <th>4</th>\n",
       "      <td>2020-02-04</td>\n",
       "      <td>0</td>\n",
       "      <td>48.322521</td>\n",
       "      <td>41.841741</td>\n",
       "    </tr>\n",
       "    <tr>\n",
       "      <th>...</th>\n",
       "      <td>...</td>\n",
       "      <td>...</td>\n",
       "      <td>...</td>\n",
       "      <td>...</td>\n",
       "    </tr>\n",
       "    <tr>\n",
       "      <th>80</th>\n",
       "      <td>2020-07-01</td>\n",
       "      <td>128103</td>\n",
       "      <td>50.151941</td>\n",
       "      <td>40.794626</td>\n",
       "    </tr>\n",
       "    <tr>\n",
       "      <th>81</th>\n",
       "      <td>2020-07-07</td>\n",
       "      <td>131289</td>\n",
       "      <td>51.322521</td>\n",
       "      <td>40.841741</td>\n",
       "    </tr>\n",
       "    <tr>\n",
       "      <th>82</th>\n",
       "      <td>2020-07-12</td>\n",
       "      <td>134977</td>\n",
       "      <td>46.611492</td>\n",
       "      <td>42.338398</td>\n",
       "    </tr>\n",
       "    <tr>\n",
       "      <th>83</th>\n",
       "      <td>2020-07-14</td>\n",
       "      <td>136356</td>\n",
       "      <td>48.322521</td>\n",
       "      <td>38.841741</td>\n",
       "    </tr>\n",
       "    <tr>\n",
       "      <th>84</th>\n",
       "      <td>2020-07-14</td>\n",
       "      <td>136356</td>\n",
       "      <td>48.322521</td>\n",
       "      <td>40.841741</td>\n",
       "    </tr>\n",
       "  </tbody>\n",
       "</table>\n",
       "<p>85 rows × 4 columns</p>\n",
       "</div>"
      ],
      "text/plain": [
       "         date  deaths  adjusted_dem  adjusted_rep\n",
       "0  2020-01-21       0     44.322521     43.841741\n",
       "1  2020-01-26       0     47.673395     41.538390\n",
       "2  2020-01-28       0     48.322521     39.841741\n",
       "3  2020-01-29       0     48.611492     42.338398\n",
       "4  2020-02-04       0     48.322521     41.841741\n",
       "..        ...     ...           ...           ...\n",
       "80 2020-07-01  128103     50.151941     40.794626\n",
       "81 2020-07-07  131289     51.322521     40.841741\n",
       "82 2020-07-12  134977     46.611492     42.338398\n",
       "83 2020-07-14  136356     48.322521     38.841741\n",
       "84 2020-07-14  136356     48.322521     40.841741\n",
       "\n",
       "[85 rows x 4 columns]"
      ]
     },
     "execution_count": 17,
     "metadata": {},
     "output_type": "execute_result"
    }
   ],
   "source": [
    "# Covid-19 death per parties rating \n",
    "df_ballot_covid_death = ballot_covid_deaths[['date', 'deaths', 'adjusted_dem', 'adjusted_rep']]\n",
    "df_ballot_covid_death"
   ]
  },
  {
   "cell_type": "code",
   "execution_count": 36,
   "metadata": {},
   "outputs": [
    {
     "data": {
      "text/plain": [
       "Index(['week', 'deaths', 'dem', 'rep'], dtype='object')"
      ]
     },
     "execution_count": 36,
     "metadata": {},
     "output_type": "execute_result"
    }
   ],
   "source": [
    "#creating a bin to hold our data to be graphed later\n",
    "bin_death = df_ballot_covid_death.groupby([pd.Grouper(key='date', freq='W')])['deaths'].mean().reset_index().sort_values('date')\n",
    "bin_dem = df_ballot_covid_death.groupby([pd.Grouper(key='date', freq='W')])['adjusted_dem'].mean().reset_index().sort_values('date')\n",
    "bin_rep = df_ballot_covid_death.groupby([pd.Grouper(key='date', freq='W')])['adjusted_rep'].mean().reset_index().sort_values('date')\n",
    "# print(bin_death)\n",
    "# print(bin_approve)\n",
    "# print(bin_dis)\n",
    "\n",
    "frames = [bin_death, bin_dem, bin_rep]\n",
    "bin_death['dem'] = bin_dem['adjusted_dem']\n",
    "bin_death['rep'] = bin_rep['adjusted_rep']\n",
    "bin = bin_death.rename(columns={'date': 'week'})\n",
    "bin.columns"
   ]
  },
  {
   "cell_type": "code",
   "execution_count": 37,
   "metadata": {
    "scrolled": true
   },
   "outputs": [
    {
     "data": {
      "text/html": [
       "<div>\n",
       "<style scoped>\n",
       "    .dataframe tbody tr th:only-of-type {\n",
       "        vertical-align: middle;\n",
       "    }\n",
       "\n",
       "    .dataframe tbody tr th {\n",
       "        vertical-align: top;\n",
       "    }\n",
       "\n",
       "    .dataframe thead th {\n",
       "        text-align: right;\n",
       "    }\n",
       "</style>\n",
       "<table border=\"1\" class=\"dataframe\">\n",
       "  <thead>\n",
       "    <tr style=\"text-align: right;\">\n",
       "      <th></th>\n",
       "      <th>date</th>\n",
       "      <th>deaths</th>\n",
       "      <th>dem</th>\n",
       "      <th>rep</th>\n",
       "    </tr>\n",
       "  </thead>\n",
       "  <tbody>\n",
       "    <tr>\n",
       "      <th>0</th>\n",
       "      <td>2020-01-26</td>\n",
       "      <td>0.000000</td>\n",
       "      <td>45.997958</td>\n",
       "      <td>42.690066</td>\n",
       "    </tr>\n",
       "    <tr>\n",
       "      <th>1</th>\n",
       "      <td>2020-02-02</td>\n",
       "      <td>0.000000</td>\n",
       "      <td>48.467006</td>\n",
       "      <td>41.090069</td>\n",
       "    </tr>\n",
       "    <tr>\n",
       "      <th>2</th>\n",
       "      <td>2020-02-09</td>\n",
       "      <td>0.000000</td>\n",
       "      <td>47.997958</td>\n",
       "      <td>42.690066</td>\n",
       "    </tr>\n",
       "    <tr>\n",
       "      <th>3</th>\n",
       "      <td>2020-02-16</td>\n",
       "      <td>0.000000</td>\n",
       "      <td>48.433459</td>\n",
       "      <td>41.038209</td>\n",
       "    </tr>\n",
       "    <tr>\n",
       "      <th>4</th>\n",
       "      <td>2020-02-23</td>\n",
       "      <td>0.000000</td>\n",
       "      <td>47.997958</td>\n",
       "      <td>41.690066</td>\n",
       "    </tr>\n",
       "    <tr>\n",
       "      <th>5</th>\n",
       "      <td>2020-03-01</td>\n",
       "      <td>0.000000</td>\n",
       "      <td>49.822521</td>\n",
       "      <td>40.841741</td>\n",
       "    </tr>\n",
       "    <tr>\n",
       "      <th>6</th>\n",
       "      <td>2020-03-08</td>\n",
       "      <td>17.000000</td>\n",
       "      <td>50.461669</td>\n",
       "      <td>41.388900</td>\n",
       "    </tr>\n",
       "    <tr>\n",
       "      <th>7</th>\n",
       "      <td>2020-03-15</td>\n",
       "      <td>49.500000</td>\n",
       "      <td>48.469365</td>\n",
       "      <td>41.914012</td>\n",
       "    </tr>\n",
       "    <tr>\n",
       "      <th>8</th>\n",
       "      <td>2020-03-22</td>\n",
       "      <td>287.500000</td>\n",
       "      <td>48.997958</td>\n",
       "      <td>40.190066</td>\n",
       "    </tr>\n",
       "    <tr>\n",
       "      <th>9</th>\n",
       "      <td>2020-03-29</td>\n",
       "      <td>1479.333333</td>\n",
       "      <td>48.476375</td>\n",
       "      <td>39.762323</td>\n",
       "    </tr>\n",
       "    <tr>\n",
       "      <th>10</th>\n",
       "      <td>2020-04-05</td>\n",
       "      <td>7004.000000</td>\n",
       "      <td>48.790693</td>\n",
       "      <td>40.142068</td>\n",
       "    </tr>\n",
       "    <tr>\n",
       "      <th>11</th>\n",
       "      <td>2020-04-12</td>\n",
       "      <td>17850.000000</td>\n",
       "      <td>47.106138</td>\n",
       "      <td>39.342700</td>\n",
       "    </tr>\n",
       "    <tr>\n",
       "      <th>12</th>\n",
       "      <td>2020-04-19</td>\n",
       "      <td>36052.000000</td>\n",
       "      <td>48.086749</td>\n",
       "      <td>39.316378</td>\n",
       "    </tr>\n",
       "    <tr>\n",
       "      <th>13</th>\n",
       "      <td>2020-04-26</td>\n",
       "      <td>47608.800000</td>\n",
       "      <td>46.547018</td>\n",
       "      <td>39.283382</td>\n",
       "    </tr>\n",
       "    <tr>\n",
       "      <th>14</th>\n",
       "      <td>2020-05-03</td>\n",
       "      <td>62783.250000</td>\n",
       "      <td>47.393856</td>\n",
       "      <td>39.791862</td>\n",
       "    </tr>\n",
       "    <tr>\n",
       "      <th>15</th>\n",
       "      <td>2020-05-10</td>\n",
       "      <td>72504.250000</td>\n",
       "      <td>48.510401</td>\n",
       "      <td>40.205756</td>\n",
       "    </tr>\n",
       "    <tr>\n",
       "      <th>16</th>\n",
       "      <td>2020-05-17</td>\n",
       "      <td>84508.000000</td>\n",
       "      <td>47.634010</td>\n",
       "      <td>39.709686</td>\n",
       "    </tr>\n",
       "    <tr>\n",
       "      <th>17</th>\n",
       "      <td>2020-05-24</td>\n",
       "      <td>93642.666667</td>\n",
       "      <td>47.667343</td>\n",
       "      <td>38.943020</td>\n",
       "    </tr>\n",
       "    <tr>\n",
       "      <th>18</th>\n",
       "      <td>2020-05-31</td>\n",
       "      <td>100146.500000</td>\n",
       "      <td>48.054720</td>\n",
       "      <td>40.557657</td>\n",
       "    </tr>\n",
       "    <tr>\n",
       "      <th>19</th>\n",
       "      <td>2020-06-07</td>\n",
       "      <td>107358.666667</td>\n",
       "      <td>48.681094</td>\n",
       "      <td>40.120036</td>\n",
       "    </tr>\n",
       "    <tr>\n",
       "      <th>20</th>\n",
       "      <td>2020-06-14</td>\n",
       "      <td>113376.400000</td>\n",
       "      <td>48.233370</td>\n",
       "      <td>40.324852</td>\n",
       "    </tr>\n",
       "    <tr>\n",
       "      <th>21</th>\n",
       "      <td>2020-06-21</td>\n",
       "      <td>117668.000000</td>\n",
       "      <td>48.765857</td>\n",
       "      <td>41.354692</td>\n",
       "    </tr>\n",
       "    <tr>\n",
       "      <th>22</th>\n",
       "      <td>2020-06-28</td>\n",
       "      <td>123614.750000</td>\n",
       "      <td>48.606712</td>\n",
       "      <td>41.618158</td>\n",
       "    </tr>\n",
       "    <tr>\n",
       "      <th>23</th>\n",
       "      <td>2020-07-05</td>\n",
       "      <td>127296.500000</td>\n",
       "      <td>49.763080</td>\n",
       "      <td>40.017191</td>\n",
       "    </tr>\n",
       "    <tr>\n",
       "      <th>24</th>\n",
       "      <td>2020-07-12</td>\n",
       "      <td>133133.000000</td>\n",
       "      <td>48.967006</td>\n",
       "      <td>41.590069</td>\n",
       "    </tr>\n",
       "    <tr>\n",
       "      <th>25</th>\n",
       "      <td>2020-07-19</td>\n",
       "      <td>136356.000000</td>\n",
       "      <td>48.322521</td>\n",
       "      <td>39.841741</td>\n",
       "    </tr>\n",
       "  </tbody>\n",
       "</table>\n",
       "</div>"
      ],
      "text/plain": [
       "         date         deaths        dem        rep\n",
       "0  2020-01-26       0.000000  45.997958  42.690066\n",
       "1  2020-02-02       0.000000  48.467006  41.090069\n",
       "2  2020-02-09       0.000000  47.997958  42.690066\n",
       "3  2020-02-16       0.000000  48.433459  41.038209\n",
       "4  2020-02-23       0.000000  47.997958  41.690066\n",
       "5  2020-03-01       0.000000  49.822521  40.841741\n",
       "6  2020-03-08      17.000000  50.461669  41.388900\n",
       "7  2020-03-15      49.500000  48.469365  41.914012\n",
       "8  2020-03-22     287.500000  48.997958  40.190066\n",
       "9  2020-03-29    1479.333333  48.476375  39.762323\n",
       "10 2020-04-05    7004.000000  48.790693  40.142068\n",
       "11 2020-04-12   17850.000000  47.106138  39.342700\n",
       "12 2020-04-19   36052.000000  48.086749  39.316378\n",
       "13 2020-04-26   47608.800000  46.547018  39.283382\n",
       "14 2020-05-03   62783.250000  47.393856  39.791862\n",
       "15 2020-05-10   72504.250000  48.510401  40.205756\n",
       "16 2020-05-17   84508.000000  47.634010  39.709686\n",
       "17 2020-05-24   93642.666667  47.667343  38.943020\n",
       "18 2020-05-31  100146.500000  48.054720  40.557657\n",
       "19 2020-06-07  107358.666667  48.681094  40.120036\n",
       "20 2020-06-14  113376.400000  48.233370  40.324852\n",
       "21 2020-06-21  117668.000000  48.765857  41.354692\n",
       "22 2020-06-28  123614.750000  48.606712  41.618158\n",
       "23 2020-07-05  127296.500000  49.763080  40.017191\n",
       "24 2020-07-12  133133.000000  48.967006  41.590069\n",
       "25 2020-07-19  136356.000000  48.322521  39.841741"
      ]
     },
     "execution_count": 37,
     "metadata": {},
     "output_type": "execute_result"
    }
   ],
   "source": [
    "bin_death"
   ]
  },
  {
   "cell_type": "code",
   "execution_count": 45,
   "metadata": {},
   "outputs": [
    {
     "data": {
      "application/vnd.plotly.v1+json": {
       "config": {
        "plotlyServerURL": "https://plot.ly"
       },
       "data": [
        {
         "marker": {
          "color": "green"
         },
         "type": "bar",
         "x": [
          "2020-01-26T00:00:00",
          "2020-02-02T00:00:00",
          "2020-02-09T00:00:00",
          "2020-02-16T00:00:00",
          "2020-02-23T00:00:00",
          "2020-03-01T00:00:00",
          "2020-03-08T00:00:00",
          "2020-03-15T00:00:00",
          "2020-03-22T00:00:00",
          "2020-03-29T00:00:00",
          "2020-04-05T00:00:00",
          "2020-04-12T00:00:00",
          "2020-04-19T00:00:00",
          "2020-04-26T00:00:00",
          "2020-05-03T00:00:00",
          "2020-05-10T00:00:00",
          "2020-05-17T00:00:00",
          "2020-05-24T00:00:00",
          "2020-05-31T00:00:00",
          "2020-06-07T00:00:00",
          "2020-06-14T00:00:00",
          "2020-06-21T00:00:00",
          "2020-06-28T00:00:00",
          "2020-07-05T00:00:00",
          "2020-07-12T00:00:00",
          "2020-07-19T00:00:00"
         ],
         "y": [
          0,
          0,
          0,
          0,
          0,
          0,
          17,
          49.5,
          287.5,
          1479.3333333333333,
          7004,
          17850,
          36052,
          47608.8,
          62783.25,
          72504.25,
          84508,
          93642.66666666667,
          100146.5,
          107358.66666666667,
          113376.4,
          117668,
          123614.75,
          127296.5,
          133133,
          136356
         ]
        },
        {
         "line": {
          "color": "red",
          "width": 4
         },
         "mode": "markers+lines",
         "type": "scatter",
         "x": [
          "2020-01-26T00:00:00",
          "2020-02-02T00:00:00",
          "2020-02-09T00:00:00",
          "2020-02-16T00:00:00",
          "2020-02-23T00:00:00",
          "2020-03-01T00:00:00",
          "2020-03-08T00:00:00",
          "2020-03-15T00:00:00",
          "2020-03-22T00:00:00",
          "2020-03-29T00:00:00",
          "2020-04-05T00:00:00",
          "2020-04-12T00:00:00",
          "2020-04-19T00:00:00",
          "2020-04-26T00:00:00",
          "2020-05-03T00:00:00",
          "2020-05-10T00:00:00",
          "2020-05-17T00:00:00",
          "2020-05-24T00:00:00",
          "2020-05-31T00:00:00",
          "2020-06-07T00:00:00",
          "2020-06-14T00:00:00",
          "2020-06-21T00:00:00",
          "2020-06-28T00:00:00",
          "2020-07-05T00:00:00",
          "2020-07-12T00:00:00",
          "2020-07-19T00:00:00"
         ],
         "xaxis": "x",
         "y": [
          42.6900655,
          41.0900695,
          42.6900655,
          41.03820866666667,
          41.6900655,
          40.841741,
          41.38889966666667,
          41.9140125,
          40.1900655,
          39.76232266666667,
          40.142068,
          39.3427,
          39.31637833333333,
          39.283382200000005,
          39.79186225,
          40.20575625,
          39.70968633333334,
          38.94301966666667,
          40.55765675,
          40.12003633333334,
          40.3248524,
          41.354692,
          41.61815825,
          40.017191249999996,
          41.5900695,
          39.841741
         ],
         "yaxis": "y2"
        }
       ],
       "layout": {
        "autosize": false,
        "font": {
         "color": "darkgoldenrod",
         "family": "Arial, monospace",
         "size": 14
        },
        "showlegend": false,
        "template": {
         "data": {
          "bar": [
           {
            "error_x": {
             "color": "#2a3f5f"
            },
            "error_y": {
             "color": "#2a3f5f"
            },
            "marker": {
             "line": {
              "color": "#E5ECF6",
              "width": 0.5
             }
            },
            "type": "bar"
           }
          ],
          "barpolar": [
           {
            "marker": {
             "line": {
              "color": "#E5ECF6",
              "width": 0.5
             }
            },
            "type": "barpolar"
           }
          ],
          "carpet": [
           {
            "aaxis": {
             "endlinecolor": "#2a3f5f",
             "gridcolor": "white",
             "linecolor": "white",
             "minorgridcolor": "white",
             "startlinecolor": "#2a3f5f"
            },
            "baxis": {
             "endlinecolor": "#2a3f5f",
             "gridcolor": "white",
             "linecolor": "white",
             "minorgridcolor": "white",
             "startlinecolor": "#2a3f5f"
            },
            "type": "carpet"
           }
          ],
          "choropleth": [
           {
            "colorbar": {
             "outlinewidth": 0,
             "ticks": ""
            },
            "type": "choropleth"
           }
          ],
          "contour": [
           {
            "colorbar": {
             "outlinewidth": 0,
             "ticks": ""
            },
            "colorscale": [
             [
              0,
              "#0d0887"
             ],
             [
              0.1111111111111111,
              "#46039f"
             ],
             [
              0.2222222222222222,
              "#7201a8"
             ],
             [
              0.3333333333333333,
              "#9c179e"
             ],
             [
              0.4444444444444444,
              "#bd3786"
             ],
             [
              0.5555555555555556,
              "#d8576b"
             ],
             [
              0.6666666666666666,
              "#ed7953"
             ],
             [
              0.7777777777777778,
              "#fb9f3a"
             ],
             [
              0.8888888888888888,
              "#fdca26"
             ],
             [
              1,
              "#f0f921"
             ]
            ],
            "type": "contour"
           }
          ],
          "contourcarpet": [
           {
            "colorbar": {
             "outlinewidth": 0,
             "ticks": ""
            },
            "type": "contourcarpet"
           }
          ],
          "heatmap": [
           {
            "colorbar": {
             "outlinewidth": 0,
             "ticks": ""
            },
            "colorscale": [
             [
              0,
              "#0d0887"
             ],
             [
              0.1111111111111111,
              "#46039f"
             ],
             [
              0.2222222222222222,
              "#7201a8"
             ],
             [
              0.3333333333333333,
              "#9c179e"
             ],
             [
              0.4444444444444444,
              "#bd3786"
             ],
             [
              0.5555555555555556,
              "#d8576b"
             ],
             [
              0.6666666666666666,
              "#ed7953"
             ],
             [
              0.7777777777777778,
              "#fb9f3a"
             ],
             [
              0.8888888888888888,
              "#fdca26"
             ],
             [
              1,
              "#f0f921"
             ]
            ],
            "type": "heatmap"
           }
          ],
          "heatmapgl": [
           {
            "colorbar": {
             "outlinewidth": 0,
             "ticks": ""
            },
            "colorscale": [
             [
              0,
              "#0d0887"
             ],
             [
              0.1111111111111111,
              "#46039f"
             ],
             [
              0.2222222222222222,
              "#7201a8"
             ],
             [
              0.3333333333333333,
              "#9c179e"
             ],
             [
              0.4444444444444444,
              "#bd3786"
             ],
             [
              0.5555555555555556,
              "#d8576b"
             ],
             [
              0.6666666666666666,
              "#ed7953"
             ],
             [
              0.7777777777777778,
              "#fb9f3a"
             ],
             [
              0.8888888888888888,
              "#fdca26"
             ],
             [
              1,
              "#f0f921"
             ]
            ],
            "type": "heatmapgl"
           }
          ],
          "histogram": [
           {
            "marker": {
             "colorbar": {
              "outlinewidth": 0,
              "ticks": ""
             }
            },
            "type": "histogram"
           }
          ],
          "histogram2d": [
           {
            "colorbar": {
             "outlinewidth": 0,
             "ticks": ""
            },
            "colorscale": [
             [
              0,
              "#0d0887"
             ],
             [
              0.1111111111111111,
              "#46039f"
             ],
             [
              0.2222222222222222,
              "#7201a8"
             ],
             [
              0.3333333333333333,
              "#9c179e"
             ],
             [
              0.4444444444444444,
              "#bd3786"
             ],
             [
              0.5555555555555556,
              "#d8576b"
             ],
             [
              0.6666666666666666,
              "#ed7953"
             ],
             [
              0.7777777777777778,
              "#fb9f3a"
             ],
             [
              0.8888888888888888,
              "#fdca26"
             ],
             [
              1,
              "#f0f921"
             ]
            ],
            "type": "histogram2d"
           }
          ],
          "histogram2dcontour": [
           {
            "colorbar": {
             "outlinewidth": 0,
             "ticks": ""
            },
            "colorscale": [
             [
              0,
              "#0d0887"
             ],
             [
              0.1111111111111111,
              "#46039f"
             ],
             [
              0.2222222222222222,
              "#7201a8"
             ],
             [
              0.3333333333333333,
              "#9c179e"
             ],
             [
              0.4444444444444444,
              "#bd3786"
             ],
             [
              0.5555555555555556,
              "#d8576b"
             ],
             [
              0.6666666666666666,
              "#ed7953"
             ],
             [
              0.7777777777777778,
              "#fb9f3a"
             ],
             [
              0.8888888888888888,
              "#fdca26"
             ],
             [
              1,
              "#f0f921"
             ]
            ],
            "type": "histogram2dcontour"
           }
          ],
          "mesh3d": [
           {
            "colorbar": {
             "outlinewidth": 0,
             "ticks": ""
            },
            "type": "mesh3d"
           }
          ],
          "parcoords": [
           {
            "line": {
             "colorbar": {
              "outlinewidth": 0,
              "ticks": ""
             }
            },
            "type": "parcoords"
           }
          ],
          "pie": [
           {
            "automargin": true,
            "type": "pie"
           }
          ],
          "scatter": [
           {
            "marker": {
             "colorbar": {
              "outlinewidth": 0,
              "ticks": ""
             }
            },
            "type": "scatter"
           }
          ],
          "scatter3d": [
           {
            "line": {
             "colorbar": {
              "outlinewidth": 0,
              "ticks": ""
             }
            },
            "marker": {
             "colorbar": {
              "outlinewidth": 0,
              "ticks": ""
             }
            },
            "type": "scatter3d"
           }
          ],
          "scattercarpet": [
           {
            "marker": {
             "colorbar": {
              "outlinewidth": 0,
              "ticks": ""
             }
            },
            "type": "scattercarpet"
           }
          ],
          "scattergeo": [
           {
            "marker": {
             "colorbar": {
              "outlinewidth": 0,
              "ticks": ""
             }
            },
            "type": "scattergeo"
           }
          ],
          "scattergl": [
           {
            "marker": {
             "colorbar": {
              "outlinewidth": 0,
              "ticks": ""
             }
            },
            "type": "scattergl"
           }
          ],
          "scattermapbox": [
           {
            "marker": {
             "colorbar": {
              "outlinewidth": 0,
              "ticks": ""
             }
            },
            "type": "scattermapbox"
           }
          ],
          "scatterpolar": [
           {
            "marker": {
             "colorbar": {
              "outlinewidth": 0,
              "ticks": ""
             }
            },
            "type": "scatterpolar"
           }
          ],
          "scatterpolargl": [
           {
            "marker": {
             "colorbar": {
              "outlinewidth": 0,
              "ticks": ""
             }
            },
            "type": "scatterpolargl"
           }
          ],
          "scatterternary": [
           {
            "marker": {
             "colorbar": {
              "outlinewidth": 0,
              "ticks": ""
             }
            },
            "type": "scatterternary"
           }
          ],
          "surface": [
           {
            "colorbar": {
             "outlinewidth": 0,
             "ticks": ""
            },
            "colorscale": [
             [
              0,
              "#0d0887"
             ],
             [
              0.1111111111111111,
              "#46039f"
             ],
             [
              0.2222222222222222,
              "#7201a8"
             ],
             [
              0.3333333333333333,
              "#9c179e"
             ],
             [
              0.4444444444444444,
              "#bd3786"
             ],
             [
              0.5555555555555556,
              "#d8576b"
             ],
             [
              0.6666666666666666,
              "#ed7953"
             ],
             [
              0.7777777777777778,
              "#fb9f3a"
             ],
             [
              0.8888888888888888,
              "#fdca26"
             ],
             [
              1,
              "#f0f921"
             ]
            ],
            "type": "surface"
           }
          ],
          "table": [
           {
            "cells": {
             "fill": {
              "color": "#EBF0F8"
             },
             "line": {
              "color": "white"
             }
            },
            "header": {
             "fill": {
              "color": "#C8D4E3"
             },
             "line": {
              "color": "white"
             }
            },
            "type": "table"
           }
          ]
         },
         "layout": {
          "annotationdefaults": {
           "arrowcolor": "#2a3f5f",
           "arrowhead": 0,
           "arrowwidth": 1
          },
          "coloraxis": {
           "colorbar": {
            "outlinewidth": 0,
            "ticks": ""
           }
          },
          "colorscale": {
           "diverging": [
            [
             0,
             "#8e0152"
            ],
            [
             0.1,
             "#c51b7d"
            ],
            [
             0.2,
             "#de77ae"
            ],
            [
             0.3,
             "#f1b6da"
            ],
            [
             0.4,
             "#fde0ef"
            ],
            [
             0.5,
             "#f7f7f7"
            ],
            [
             0.6,
             "#e6f5d0"
            ],
            [
             0.7,
             "#b8e186"
            ],
            [
             0.8,
             "#7fbc41"
            ],
            [
             0.9,
             "#4d9221"
            ],
            [
             1,
             "#276419"
            ]
           ],
           "sequential": [
            [
             0,
             "#0d0887"
            ],
            [
             0.1111111111111111,
             "#46039f"
            ],
            [
             0.2222222222222222,
             "#7201a8"
            ],
            [
             0.3333333333333333,
             "#9c179e"
            ],
            [
             0.4444444444444444,
             "#bd3786"
            ],
            [
             0.5555555555555556,
             "#d8576b"
            ],
            [
             0.6666666666666666,
             "#ed7953"
            ],
            [
             0.7777777777777778,
             "#fb9f3a"
            ],
            [
             0.8888888888888888,
             "#fdca26"
            ],
            [
             1,
             "#f0f921"
            ]
           ],
           "sequentialminus": [
            [
             0,
             "#0d0887"
            ],
            [
             0.1111111111111111,
             "#46039f"
            ],
            [
             0.2222222222222222,
             "#7201a8"
            ],
            [
             0.3333333333333333,
             "#9c179e"
            ],
            [
             0.4444444444444444,
             "#bd3786"
            ],
            [
             0.5555555555555556,
             "#d8576b"
            ],
            [
             0.6666666666666666,
             "#ed7953"
            ],
            [
             0.7777777777777778,
             "#fb9f3a"
            ],
            [
             0.8888888888888888,
             "#fdca26"
            ],
            [
             1,
             "#f0f921"
            ]
           ]
          },
          "colorway": [
           "#636efa",
           "#EF553B",
           "#00cc96",
           "#ab63fa",
           "#FFA15A",
           "#19d3f3",
           "#FF6692",
           "#B6E880",
           "#FF97FF",
           "#FECB52"
          ],
          "font": {
           "color": "#2a3f5f"
          },
          "geo": {
           "bgcolor": "white",
           "lakecolor": "white",
           "landcolor": "#E5ECF6",
           "showlakes": true,
           "showland": true,
           "subunitcolor": "white"
          },
          "hoverlabel": {
           "align": "left"
          },
          "hovermode": "closest",
          "mapbox": {
           "style": "light"
          },
          "paper_bgcolor": "white",
          "plot_bgcolor": "#E5ECF6",
          "polar": {
           "angularaxis": {
            "gridcolor": "white",
            "linecolor": "white",
            "ticks": ""
           },
           "bgcolor": "#E5ECF6",
           "radialaxis": {
            "gridcolor": "white",
            "linecolor": "white",
            "ticks": ""
           }
          },
          "scene": {
           "xaxis": {
            "backgroundcolor": "#E5ECF6",
            "gridcolor": "white",
            "gridwidth": 2,
            "linecolor": "white",
            "showbackground": true,
            "ticks": "",
            "zerolinecolor": "white"
           },
           "yaxis": {
            "backgroundcolor": "#E5ECF6",
            "gridcolor": "white",
            "gridwidth": 2,
            "linecolor": "white",
            "showbackground": true,
            "ticks": "",
            "zerolinecolor": "white"
           },
           "zaxis": {
            "backgroundcolor": "#E5ECF6",
            "gridcolor": "white",
            "gridwidth": 2,
            "linecolor": "white",
            "showbackground": true,
            "ticks": "",
            "zerolinecolor": "white"
           }
          },
          "shapedefaults": {
           "line": {
            "color": "#2a3f5f"
           }
          },
          "ternary": {
           "aaxis": {
            "gridcolor": "white",
            "linecolor": "white",
            "ticks": ""
           },
           "baxis": {
            "gridcolor": "white",
            "linecolor": "white",
            "ticks": ""
           },
           "bgcolor": "#E5ECF6",
           "caxis": {
            "gridcolor": "white",
            "linecolor": "white",
            "ticks": ""
           }
          },
          "title": {
           "x": 0.05
          },
          "xaxis": {
           "automargin": true,
           "gridcolor": "white",
           "linecolor": "white",
           "ticks": "",
           "title": {
            "standoff": 15
           },
           "zerolinecolor": "white",
           "zerolinewidth": 2
          },
          "yaxis": {
           "automargin": true,
           "gridcolor": "white",
           "linecolor": "white",
           "ticks": "",
           "title": {
            "standoff": 15
           },
           "zerolinecolor": "white",
           "zerolinewidth": 2
          }
         }
        },
        "title": {
         "text": "<b>Republicans Ballot vs. Covid Deaths in the US</b>"
        },
        "xaxis": {
         "anchor": "y",
         "domain": [
          0,
          0.94
         ],
         "title": {
          "text": "<b>Weeks</b>"
         }
        },
        "yaxis": {
         "anchor": "x",
         "domain": [
          0,
          1
         ],
         "title": {
          "text": "<b>Covid Deaths in US</b>"
         }
        },
        "yaxis2": {
         "anchor": "x",
         "overlaying": "y",
         "side": "right",
         "title": {
          "text": "<b>Republicans Ballot</b>"
         }
        }
       }
      },
      "text/html": [
       "<div>\n",
       "        \n",
       "        \n",
       "            <div id=\"0887ee30-be99-46d9-8b1a-042041f6acb1\" class=\"plotly-graph-div\" style=\"height:525px; width:100%;\"></div>\n",
       "            <script type=\"text/javascript\">\n",
       "                require([\"plotly\"], function(Plotly) {\n",
       "                    window.PLOTLYENV=window.PLOTLYENV || {};\n",
       "                    \n",
       "                if (document.getElementById(\"0887ee30-be99-46d9-8b1a-042041f6acb1\")) {\n",
       "                    Plotly.newPlot(\n",
       "                        '0887ee30-be99-46d9-8b1a-042041f6acb1',\n",
       "                        [{\"marker\": {\"color\": \"green\"}, \"type\": \"bar\", \"x\": [\"2020-01-26T00:00:00\", \"2020-02-02T00:00:00\", \"2020-02-09T00:00:00\", \"2020-02-16T00:00:00\", \"2020-02-23T00:00:00\", \"2020-03-01T00:00:00\", \"2020-03-08T00:00:00\", \"2020-03-15T00:00:00\", \"2020-03-22T00:00:00\", \"2020-03-29T00:00:00\", \"2020-04-05T00:00:00\", \"2020-04-12T00:00:00\", \"2020-04-19T00:00:00\", \"2020-04-26T00:00:00\", \"2020-05-03T00:00:00\", \"2020-05-10T00:00:00\", \"2020-05-17T00:00:00\", \"2020-05-24T00:00:00\", \"2020-05-31T00:00:00\", \"2020-06-07T00:00:00\", \"2020-06-14T00:00:00\", \"2020-06-21T00:00:00\", \"2020-06-28T00:00:00\", \"2020-07-05T00:00:00\", \"2020-07-12T00:00:00\", \"2020-07-19T00:00:00\"], \"y\": [0.0, 0.0, 0.0, 0.0, 0.0, 0.0, 17.0, 49.5, 287.5, 1479.3333333333333, 7004.0, 17850.0, 36052.0, 47608.8, 62783.25, 72504.25, 84508.0, 93642.66666666667, 100146.5, 107358.66666666667, 113376.4, 117668.0, 123614.75, 127296.5, 133133.0, 136356.0]}, {\"line\": {\"color\": \"red\", \"width\": 4}, \"mode\": \"markers+lines\", \"type\": \"scatter\", \"x\": [\"2020-01-26T00:00:00\", \"2020-02-02T00:00:00\", \"2020-02-09T00:00:00\", \"2020-02-16T00:00:00\", \"2020-02-23T00:00:00\", \"2020-03-01T00:00:00\", \"2020-03-08T00:00:00\", \"2020-03-15T00:00:00\", \"2020-03-22T00:00:00\", \"2020-03-29T00:00:00\", \"2020-04-05T00:00:00\", \"2020-04-12T00:00:00\", \"2020-04-19T00:00:00\", \"2020-04-26T00:00:00\", \"2020-05-03T00:00:00\", \"2020-05-10T00:00:00\", \"2020-05-17T00:00:00\", \"2020-05-24T00:00:00\", \"2020-05-31T00:00:00\", \"2020-06-07T00:00:00\", \"2020-06-14T00:00:00\", \"2020-06-21T00:00:00\", \"2020-06-28T00:00:00\", \"2020-07-05T00:00:00\", \"2020-07-12T00:00:00\", \"2020-07-19T00:00:00\"], \"xaxis\": \"x\", \"y\": [42.6900655, 41.0900695, 42.6900655, 41.03820866666667, 41.6900655, 40.841741, 41.38889966666667, 41.9140125, 40.1900655, 39.76232266666667, 40.142068, 39.3427, 39.31637833333333, 39.283382200000005, 39.79186225, 40.20575625, 39.70968633333334, 38.94301966666667, 40.55765675, 40.12003633333334, 40.3248524, 41.354692, 41.61815825, 40.017191249999996, 41.5900695, 39.841741], \"yaxis\": \"y2\"}],\n",
       "                        {\"autosize\": false, \"font\": {\"color\": \"darkgoldenrod\", \"family\": \"Arial, monospace\", \"size\": 14}, \"showlegend\": false, \"template\": {\"data\": {\"bar\": [{\"error_x\": {\"color\": \"#2a3f5f\"}, \"error_y\": {\"color\": \"#2a3f5f\"}, \"marker\": {\"line\": {\"color\": \"#E5ECF6\", \"width\": 0.5}}, \"type\": \"bar\"}], \"barpolar\": [{\"marker\": {\"line\": {\"color\": \"#E5ECF6\", \"width\": 0.5}}, \"type\": \"barpolar\"}], \"carpet\": [{\"aaxis\": {\"endlinecolor\": \"#2a3f5f\", \"gridcolor\": \"white\", \"linecolor\": \"white\", \"minorgridcolor\": \"white\", \"startlinecolor\": \"#2a3f5f\"}, \"baxis\": {\"endlinecolor\": \"#2a3f5f\", \"gridcolor\": \"white\", \"linecolor\": \"white\", \"minorgridcolor\": \"white\", \"startlinecolor\": \"#2a3f5f\"}, \"type\": \"carpet\"}], \"choropleth\": [{\"colorbar\": {\"outlinewidth\": 0, \"ticks\": \"\"}, \"type\": \"choropleth\"}], \"contour\": [{\"colorbar\": {\"outlinewidth\": 0, \"ticks\": \"\"}, \"colorscale\": [[0.0, \"#0d0887\"], [0.1111111111111111, \"#46039f\"], [0.2222222222222222, \"#7201a8\"], [0.3333333333333333, \"#9c179e\"], [0.4444444444444444, \"#bd3786\"], [0.5555555555555556, \"#d8576b\"], [0.6666666666666666, \"#ed7953\"], [0.7777777777777778, \"#fb9f3a\"], [0.8888888888888888, \"#fdca26\"], [1.0, \"#f0f921\"]], \"type\": \"contour\"}], \"contourcarpet\": [{\"colorbar\": {\"outlinewidth\": 0, \"ticks\": \"\"}, \"type\": \"contourcarpet\"}], \"heatmap\": [{\"colorbar\": {\"outlinewidth\": 0, \"ticks\": \"\"}, \"colorscale\": [[0.0, \"#0d0887\"], [0.1111111111111111, \"#46039f\"], [0.2222222222222222, \"#7201a8\"], [0.3333333333333333, \"#9c179e\"], [0.4444444444444444, \"#bd3786\"], [0.5555555555555556, \"#d8576b\"], [0.6666666666666666, \"#ed7953\"], [0.7777777777777778, \"#fb9f3a\"], [0.8888888888888888, \"#fdca26\"], [1.0, \"#f0f921\"]], \"type\": \"heatmap\"}], \"heatmapgl\": [{\"colorbar\": {\"outlinewidth\": 0, \"ticks\": \"\"}, \"colorscale\": [[0.0, \"#0d0887\"], [0.1111111111111111, \"#46039f\"], [0.2222222222222222, \"#7201a8\"], [0.3333333333333333, \"#9c179e\"], [0.4444444444444444, \"#bd3786\"], [0.5555555555555556, \"#d8576b\"], [0.6666666666666666, \"#ed7953\"], [0.7777777777777778, \"#fb9f3a\"], [0.8888888888888888, \"#fdca26\"], [1.0, \"#f0f921\"]], \"type\": \"heatmapgl\"}], \"histogram\": [{\"marker\": {\"colorbar\": {\"outlinewidth\": 0, \"ticks\": \"\"}}, \"type\": \"histogram\"}], \"histogram2d\": [{\"colorbar\": {\"outlinewidth\": 0, \"ticks\": \"\"}, \"colorscale\": [[0.0, \"#0d0887\"], [0.1111111111111111, \"#46039f\"], [0.2222222222222222, \"#7201a8\"], [0.3333333333333333, \"#9c179e\"], [0.4444444444444444, \"#bd3786\"], [0.5555555555555556, \"#d8576b\"], [0.6666666666666666, \"#ed7953\"], [0.7777777777777778, \"#fb9f3a\"], [0.8888888888888888, \"#fdca26\"], [1.0, \"#f0f921\"]], \"type\": \"histogram2d\"}], \"histogram2dcontour\": [{\"colorbar\": {\"outlinewidth\": 0, \"ticks\": \"\"}, \"colorscale\": [[0.0, \"#0d0887\"], [0.1111111111111111, \"#46039f\"], [0.2222222222222222, \"#7201a8\"], [0.3333333333333333, \"#9c179e\"], [0.4444444444444444, \"#bd3786\"], [0.5555555555555556, \"#d8576b\"], [0.6666666666666666, \"#ed7953\"], [0.7777777777777778, \"#fb9f3a\"], [0.8888888888888888, \"#fdca26\"], [1.0, \"#f0f921\"]], \"type\": \"histogram2dcontour\"}], \"mesh3d\": [{\"colorbar\": {\"outlinewidth\": 0, \"ticks\": \"\"}, \"type\": \"mesh3d\"}], \"parcoords\": [{\"line\": {\"colorbar\": {\"outlinewidth\": 0, \"ticks\": \"\"}}, \"type\": \"parcoords\"}], \"pie\": [{\"automargin\": true, \"type\": \"pie\"}], \"scatter\": [{\"marker\": {\"colorbar\": {\"outlinewidth\": 0, \"ticks\": \"\"}}, \"type\": \"scatter\"}], \"scatter3d\": [{\"line\": {\"colorbar\": {\"outlinewidth\": 0, \"ticks\": \"\"}}, \"marker\": {\"colorbar\": {\"outlinewidth\": 0, \"ticks\": \"\"}}, \"type\": \"scatter3d\"}], \"scattercarpet\": [{\"marker\": {\"colorbar\": {\"outlinewidth\": 0, \"ticks\": \"\"}}, \"type\": \"scattercarpet\"}], \"scattergeo\": [{\"marker\": {\"colorbar\": {\"outlinewidth\": 0, \"ticks\": \"\"}}, \"type\": \"scattergeo\"}], \"scattergl\": [{\"marker\": {\"colorbar\": {\"outlinewidth\": 0, \"ticks\": \"\"}}, \"type\": \"scattergl\"}], \"scattermapbox\": [{\"marker\": {\"colorbar\": {\"outlinewidth\": 0, \"ticks\": \"\"}}, \"type\": \"scattermapbox\"}], \"scatterpolar\": [{\"marker\": {\"colorbar\": {\"outlinewidth\": 0, \"ticks\": \"\"}}, \"type\": \"scatterpolar\"}], \"scatterpolargl\": [{\"marker\": {\"colorbar\": {\"outlinewidth\": 0, \"ticks\": \"\"}}, \"type\": \"scatterpolargl\"}], \"scatterternary\": [{\"marker\": {\"colorbar\": {\"outlinewidth\": 0, \"ticks\": \"\"}}, \"type\": \"scatterternary\"}], \"surface\": [{\"colorbar\": {\"outlinewidth\": 0, \"ticks\": \"\"}, \"colorscale\": [[0.0, \"#0d0887\"], [0.1111111111111111, \"#46039f\"], [0.2222222222222222, \"#7201a8\"], [0.3333333333333333, \"#9c179e\"], [0.4444444444444444, \"#bd3786\"], [0.5555555555555556, \"#d8576b\"], [0.6666666666666666, \"#ed7953\"], [0.7777777777777778, \"#fb9f3a\"], [0.8888888888888888, \"#fdca26\"], [1.0, \"#f0f921\"]], \"type\": \"surface\"}], \"table\": [{\"cells\": {\"fill\": {\"color\": \"#EBF0F8\"}, \"line\": {\"color\": \"white\"}}, \"header\": {\"fill\": {\"color\": \"#C8D4E3\"}, \"line\": {\"color\": \"white\"}}, \"type\": \"table\"}]}, \"layout\": {\"annotationdefaults\": {\"arrowcolor\": \"#2a3f5f\", \"arrowhead\": 0, \"arrowwidth\": 1}, \"coloraxis\": {\"colorbar\": {\"outlinewidth\": 0, \"ticks\": \"\"}}, \"colorscale\": {\"diverging\": [[0, \"#8e0152\"], [0.1, \"#c51b7d\"], [0.2, \"#de77ae\"], [0.3, \"#f1b6da\"], [0.4, \"#fde0ef\"], [0.5, \"#f7f7f7\"], [0.6, \"#e6f5d0\"], [0.7, \"#b8e186\"], [0.8, \"#7fbc41\"], [0.9, \"#4d9221\"], [1, \"#276419\"]], \"sequential\": [[0.0, \"#0d0887\"], [0.1111111111111111, \"#46039f\"], [0.2222222222222222, \"#7201a8\"], [0.3333333333333333, \"#9c179e\"], [0.4444444444444444, \"#bd3786\"], [0.5555555555555556, \"#d8576b\"], [0.6666666666666666, \"#ed7953\"], [0.7777777777777778, \"#fb9f3a\"], [0.8888888888888888, \"#fdca26\"], [1.0, \"#f0f921\"]], \"sequentialminus\": [[0.0, \"#0d0887\"], [0.1111111111111111, \"#46039f\"], [0.2222222222222222, \"#7201a8\"], [0.3333333333333333, \"#9c179e\"], [0.4444444444444444, \"#bd3786\"], [0.5555555555555556, \"#d8576b\"], [0.6666666666666666, \"#ed7953\"], [0.7777777777777778, \"#fb9f3a\"], [0.8888888888888888, \"#fdca26\"], [1.0, \"#f0f921\"]]}, \"colorway\": [\"#636efa\", \"#EF553B\", \"#00cc96\", \"#ab63fa\", \"#FFA15A\", \"#19d3f3\", \"#FF6692\", \"#B6E880\", \"#FF97FF\", \"#FECB52\"], \"font\": {\"color\": \"#2a3f5f\"}, \"geo\": {\"bgcolor\": \"white\", \"lakecolor\": \"white\", \"landcolor\": \"#E5ECF6\", \"showlakes\": true, \"showland\": true, \"subunitcolor\": \"white\"}, \"hoverlabel\": {\"align\": \"left\"}, \"hovermode\": \"closest\", \"mapbox\": {\"style\": \"light\"}, \"paper_bgcolor\": \"white\", \"plot_bgcolor\": \"#E5ECF6\", \"polar\": {\"angularaxis\": {\"gridcolor\": \"white\", \"linecolor\": \"white\", \"ticks\": \"\"}, \"bgcolor\": \"#E5ECF6\", \"radialaxis\": {\"gridcolor\": \"white\", \"linecolor\": \"white\", \"ticks\": \"\"}}, \"scene\": {\"xaxis\": {\"backgroundcolor\": \"#E5ECF6\", \"gridcolor\": \"white\", \"gridwidth\": 2, \"linecolor\": \"white\", \"showbackground\": true, \"ticks\": \"\", \"zerolinecolor\": \"white\"}, \"yaxis\": {\"backgroundcolor\": \"#E5ECF6\", \"gridcolor\": \"white\", \"gridwidth\": 2, \"linecolor\": \"white\", \"showbackground\": true, \"ticks\": \"\", \"zerolinecolor\": \"white\"}, \"zaxis\": {\"backgroundcolor\": \"#E5ECF6\", \"gridcolor\": \"white\", \"gridwidth\": 2, \"linecolor\": \"white\", \"showbackground\": true, \"ticks\": \"\", \"zerolinecolor\": \"white\"}}, \"shapedefaults\": {\"line\": {\"color\": \"#2a3f5f\"}}, \"ternary\": {\"aaxis\": {\"gridcolor\": \"white\", \"linecolor\": \"white\", \"ticks\": \"\"}, \"baxis\": {\"gridcolor\": \"white\", \"linecolor\": \"white\", \"ticks\": \"\"}, \"bgcolor\": \"#E5ECF6\", \"caxis\": {\"gridcolor\": \"white\", \"linecolor\": \"white\", \"ticks\": \"\"}}, \"title\": {\"x\": 0.05}, \"xaxis\": {\"automargin\": true, \"gridcolor\": \"white\", \"linecolor\": \"white\", \"ticks\": \"\", \"title\": {\"standoff\": 15}, \"zerolinecolor\": \"white\", \"zerolinewidth\": 2}, \"yaxis\": {\"automargin\": true, \"gridcolor\": \"white\", \"linecolor\": \"white\", \"ticks\": \"\", \"title\": {\"standoff\": 15}, \"zerolinecolor\": \"white\", \"zerolinewidth\": 2}}}, \"title\": {\"text\": \"<b>Republicans Ballot vs. Covid Deaths in the US</b>\"}, \"xaxis\": {\"anchor\": \"y\", \"domain\": [0.0, 0.94], \"title\": {\"text\": \"<b>Weeks</b>\"}}, \"yaxis\": {\"anchor\": \"x\", \"domain\": [0.0, 1.0], \"title\": {\"text\": \"<b>Covid Deaths in US</b>\"}}, \"yaxis2\": {\"anchor\": \"x\", \"overlaying\": \"y\", \"side\": \"right\", \"title\": {\"text\": \"<b>Republicans Ballot</b>\"}}},\n",
       "                        {\"responsive\": true}\n",
       "                    ).then(function(){\n",
       "                            \n",
       "var gd = document.getElementById('0887ee30-be99-46d9-8b1a-042041f6acb1');\n",
       "var x = new MutationObserver(function (mutations, observer) {{\n",
       "        var display = window.getComputedStyle(gd).display;\n",
       "        if (!display || display === 'none') {{\n",
       "            console.log([gd, 'removed!']);\n",
       "            Plotly.purge(gd);\n",
       "            observer.disconnect();\n",
       "        }}\n",
       "}});\n",
       "\n",
       "// Listen for the removal of the full notebook cells\n",
       "var notebookContainer = gd.closest('#notebook-container');\n",
       "if (notebookContainer) {{\n",
       "    x.observe(notebookContainer, {childList: true});\n",
       "}}\n",
       "\n",
       "// Listen for the clearing of the current output cell\n",
       "var outputEl = gd.closest('.output');\n",
       "if (outputEl) {{\n",
       "    x.observe(outputEl, {childList: true});\n",
       "}}\n",
       "\n",
       "                        })\n",
       "                };\n",
       "                });\n",
       "            </script>\n",
       "        </div>"
      ]
     },
     "metadata": {},
     "output_type": "display_data"
    }
   ],
   "source": [
    "import os\n",
    "from plotly.subplots import make_subplots\n",
    "import plotly.express as px\n",
    "import plotly.graph_objects as go\n",
    "\n",
    "# Make figure overlaying COVID Deaths and Republicans Rating\n",
    "fig = make_subplots(specs=[[{\"secondary_y\": True}]])\n",
    "\n",
    "# Add traces\n",
    "fig.add_trace(go.Bar(x=bin_death['date'], y=bin_death['deaths'], marker_color='green'))\n",
    "\n",
    "fig.add_trace(go.Scatter(x=bin_death['date'], y=bin_death['rep'], mode = 'markers+lines', line=dict(color='red', width=4)), secondary_y=True)\n",
    "\n",
    "fig.update_layout(title=\"<b>Republicans Ballot vs. Covid Deaths in the US</b>\", xaxis_title=\"<b>Weeks</b>\", \n",
    "                 yaxis_title=\"<b>Covid Deaths in US</b>\", showlegend=False, autosize=False, font=dict(family=\"Arial, monospace\",size=14,color=\"darkgoldenrod\"))\n",
    "fig.update_yaxes(title_text=\"<b>Republicans Ballot</b>\", secondary_y=True)\n"
   ]
  },
  {
   "cell_type": "code",
   "execution_count": 20,
   "metadata": {
    "jupyter": {
     "outputs_hidden": true
    }
   },
   "outputs": [
    {
     "name": "stdout",
     "output_type": "stream",
     "text": [
      "Requirement already satisfied: plotly_express in /Users/paulenguendang/opt/anaconda3/envs/pythonData/lib/python3.6/site-packages (0.4.1)\n",
      "Requirement already satisfied: statsmodels>=0.9.0 in /Users/paulenguendang/opt/anaconda3/envs/pythonData/lib/python3.6/site-packages (from plotly_express) (0.11.1)\n",
      "Requirement already satisfied: scipy>=0.18 in /Users/paulenguendang/opt/anaconda3/envs/pythonData/lib/python3.6/site-packages (from plotly_express) (1.4.1)\n",
      "Requirement already satisfied: patsy>=0.5 in /Users/paulenguendang/opt/anaconda3/envs/pythonData/lib/python3.6/site-packages (from plotly_express) (0.5.1)\n",
      "Requirement already satisfied: pandas>=0.20.0 in /Users/paulenguendang/opt/anaconda3/envs/pythonData/lib/python3.6/site-packages (from plotly_express) (1.0.4)\n",
      "Requirement already satisfied: numpy>=1.11 in /Users/paulenguendang/opt/anaconda3/envs/pythonData/lib/python3.6/site-packages (from plotly_express) (1.18.1)\n",
      "Requirement already satisfied: plotly>=4.1.0 in /Users/paulenguendang/opt/anaconda3/envs/pythonData/lib/python3.6/site-packages (from plotly_express) (4.9.0)\n",
      "Requirement already satisfied: six in /Users/paulenguendang/opt/anaconda3/envs/pythonData/lib/python3.6/site-packages (from patsy>=0.5->plotly_express) (1.15.0)\n",
      "Requirement already satisfied: pytz>=2017.2 in /Users/paulenguendang/opt/anaconda3/envs/pythonData/lib/python3.6/site-packages (from pandas>=0.20.0->plotly_express) (2020.1)\n",
      "Requirement already satisfied: python-dateutil>=2.6.1 in /Users/paulenguendang/opt/anaconda3/envs/pythonData/lib/python3.6/site-packages (from pandas>=0.20.0->plotly_express) (2.8.1)\n",
      "Requirement already satisfied: retrying>=1.3.3 in /Users/paulenguendang/opt/anaconda3/envs/pythonData/lib/python3.6/site-packages (from plotly>=4.1.0->plotly_express) (1.3.3)\n"
     ]
    }
   ],
   "source": [
    "# Install a pip package in the current Jupyter kernel\n",
    "import sys\n",
    "!{sys.executable} -m pip install plotly_express"
   ]
  },
  {
   "cell_type": "code",
   "execution_count": 30,
   "metadata": {},
   "outputs": [
    {
     "name": "stdout",
     "output_type": "stream",
     "text": [
      "Traceback (most recent call last):\n",
      "  File \"<string>\", line 1, in <module>\n",
      "NameError: name 'plotly' is not defined\n"
     ]
    }
   ],
   "source": [
    "!{sys.executable} -c plotly-orca"
   ]
  },
  {
   "cell_type": "code",
   "execution_count": 46,
   "metadata": {},
   "outputs": [
    {
     "data": {
      "application/vnd.plotly.v1+json": {
       "config": {
        "plotlyServerURL": "https://plot.ly"
       },
       "data": [
        {
         "marker": {
          "color": "green"
         },
         "type": "bar",
         "x": [
          "2020-01-26T00:00:00",
          "2020-02-02T00:00:00",
          "2020-02-09T00:00:00",
          "2020-02-16T00:00:00",
          "2020-02-23T00:00:00",
          "2020-03-01T00:00:00",
          "2020-03-08T00:00:00",
          "2020-03-15T00:00:00",
          "2020-03-22T00:00:00",
          "2020-03-29T00:00:00",
          "2020-04-05T00:00:00",
          "2020-04-12T00:00:00",
          "2020-04-19T00:00:00",
          "2020-04-26T00:00:00",
          "2020-05-03T00:00:00",
          "2020-05-10T00:00:00",
          "2020-05-17T00:00:00",
          "2020-05-24T00:00:00",
          "2020-05-31T00:00:00",
          "2020-06-07T00:00:00",
          "2020-06-14T00:00:00",
          "2020-06-21T00:00:00",
          "2020-06-28T00:00:00",
          "2020-07-05T00:00:00",
          "2020-07-12T00:00:00",
          "2020-07-19T00:00:00"
         ],
         "y": [
          0,
          0,
          0,
          0,
          0,
          0,
          17,
          49.5,
          287.5,
          1479.3333333333333,
          7004,
          17850,
          36052,
          47608.8,
          62783.25,
          72504.25,
          84508,
          93642.66666666667,
          100146.5,
          107358.66666666667,
          113376.4,
          117668,
          123614.75,
          127296.5,
          133133,
          136356
         ]
        },
        {
         "line": {
          "color": "blue",
          "width": 4
         },
         "mode": "markers+lines",
         "type": "scatter",
         "x": [
          "2020-01-26T00:00:00",
          "2020-02-02T00:00:00",
          "2020-02-09T00:00:00",
          "2020-02-16T00:00:00",
          "2020-02-23T00:00:00",
          "2020-03-01T00:00:00",
          "2020-03-08T00:00:00",
          "2020-03-15T00:00:00",
          "2020-03-22T00:00:00",
          "2020-03-29T00:00:00",
          "2020-04-05T00:00:00",
          "2020-04-12T00:00:00",
          "2020-04-19T00:00:00",
          "2020-04-26T00:00:00",
          "2020-05-03T00:00:00",
          "2020-05-10T00:00:00",
          "2020-05-17T00:00:00",
          "2020-05-24T00:00:00",
          "2020-05-31T00:00:00",
          "2020-06-07T00:00:00",
          "2020-06-14T00:00:00",
          "2020-06-21T00:00:00",
          "2020-06-28T00:00:00",
          "2020-07-05T00:00:00",
          "2020-07-12T00:00:00",
          "2020-07-19T00:00:00"
         ],
         "xaxis": "x",
         "y": [
          45.997958,
          48.4670065,
          47.997958,
          48.43345866666667,
          47.997958,
          49.822521,
          50.46166866666667,
          48.469365499999995,
          48.997958,
          48.476375,
          48.790693,
          47.1061375,
          48.086748666666665,
          46.5470178,
          47.393856,
          48.510401,
          47.634009666666664,
          47.667342999999995,
          48.05471975,
          48.681093833333335,
          48.23337,
          48.76585675,
          48.606712,
          49.76308025,
          48.9670065,
          48.322521
         ],
         "yaxis": "y2"
        }
       ],
       "layout": {
        "autosize": false,
        "font": {
         "color": "darkgoldenrod",
         "family": "Arial, monospace",
         "size": 14
        },
        "showlegend": false,
        "template": {
         "data": {
          "bar": [
           {
            "error_x": {
             "color": "#2a3f5f"
            },
            "error_y": {
             "color": "#2a3f5f"
            },
            "marker": {
             "line": {
              "color": "#E5ECF6",
              "width": 0.5
             }
            },
            "type": "bar"
           }
          ],
          "barpolar": [
           {
            "marker": {
             "line": {
              "color": "#E5ECF6",
              "width": 0.5
             }
            },
            "type": "barpolar"
           }
          ],
          "carpet": [
           {
            "aaxis": {
             "endlinecolor": "#2a3f5f",
             "gridcolor": "white",
             "linecolor": "white",
             "minorgridcolor": "white",
             "startlinecolor": "#2a3f5f"
            },
            "baxis": {
             "endlinecolor": "#2a3f5f",
             "gridcolor": "white",
             "linecolor": "white",
             "minorgridcolor": "white",
             "startlinecolor": "#2a3f5f"
            },
            "type": "carpet"
           }
          ],
          "choropleth": [
           {
            "colorbar": {
             "outlinewidth": 0,
             "ticks": ""
            },
            "type": "choropleth"
           }
          ],
          "contour": [
           {
            "colorbar": {
             "outlinewidth": 0,
             "ticks": ""
            },
            "colorscale": [
             [
              0,
              "#0d0887"
             ],
             [
              0.1111111111111111,
              "#46039f"
             ],
             [
              0.2222222222222222,
              "#7201a8"
             ],
             [
              0.3333333333333333,
              "#9c179e"
             ],
             [
              0.4444444444444444,
              "#bd3786"
             ],
             [
              0.5555555555555556,
              "#d8576b"
             ],
             [
              0.6666666666666666,
              "#ed7953"
             ],
             [
              0.7777777777777778,
              "#fb9f3a"
             ],
             [
              0.8888888888888888,
              "#fdca26"
             ],
             [
              1,
              "#f0f921"
             ]
            ],
            "type": "contour"
           }
          ],
          "contourcarpet": [
           {
            "colorbar": {
             "outlinewidth": 0,
             "ticks": ""
            },
            "type": "contourcarpet"
           }
          ],
          "heatmap": [
           {
            "colorbar": {
             "outlinewidth": 0,
             "ticks": ""
            },
            "colorscale": [
             [
              0,
              "#0d0887"
             ],
             [
              0.1111111111111111,
              "#46039f"
             ],
             [
              0.2222222222222222,
              "#7201a8"
             ],
             [
              0.3333333333333333,
              "#9c179e"
             ],
             [
              0.4444444444444444,
              "#bd3786"
             ],
             [
              0.5555555555555556,
              "#d8576b"
             ],
             [
              0.6666666666666666,
              "#ed7953"
             ],
             [
              0.7777777777777778,
              "#fb9f3a"
             ],
             [
              0.8888888888888888,
              "#fdca26"
             ],
             [
              1,
              "#f0f921"
             ]
            ],
            "type": "heatmap"
           }
          ],
          "heatmapgl": [
           {
            "colorbar": {
             "outlinewidth": 0,
             "ticks": ""
            },
            "colorscale": [
             [
              0,
              "#0d0887"
             ],
             [
              0.1111111111111111,
              "#46039f"
             ],
             [
              0.2222222222222222,
              "#7201a8"
             ],
             [
              0.3333333333333333,
              "#9c179e"
             ],
             [
              0.4444444444444444,
              "#bd3786"
             ],
             [
              0.5555555555555556,
              "#d8576b"
             ],
             [
              0.6666666666666666,
              "#ed7953"
             ],
             [
              0.7777777777777778,
              "#fb9f3a"
             ],
             [
              0.8888888888888888,
              "#fdca26"
             ],
             [
              1,
              "#f0f921"
             ]
            ],
            "type": "heatmapgl"
           }
          ],
          "histogram": [
           {
            "marker": {
             "colorbar": {
              "outlinewidth": 0,
              "ticks": ""
             }
            },
            "type": "histogram"
           }
          ],
          "histogram2d": [
           {
            "colorbar": {
             "outlinewidth": 0,
             "ticks": ""
            },
            "colorscale": [
             [
              0,
              "#0d0887"
             ],
             [
              0.1111111111111111,
              "#46039f"
             ],
             [
              0.2222222222222222,
              "#7201a8"
             ],
             [
              0.3333333333333333,
              "#9c179e"
             ],
             [
              0.4444444444444444,
              "#bd3786"
             ],
             [
              0.5555555555555556,
              "#d8576b"
             ],
             [
              0.6666666666666666,
              "#ed7953"
             ],
             [
              0.7777777777777778,
              "#fb9f3a"
             ],
             [
              0.8888888888888888,
              "#fdca26"
             ],
             [
              1,
              "#f0f921"
             ]
            ],
            "type": "histogram2d"
           }
          ],
          "histogram2dcontour": [
           {
            "colorbar": {
             "outlinewidth": 0,
             "ticks": ""
            },
            "colorscale": [
             [
              0,
              "#0d0887"
             ],
             [
              0.1111111111111111,
              "#46039f"
             ],
             [
              0.2222222222222222,
              "#7201a8"
             ],
             [
              0.3333333333333333,
              "#9c179e"
             ],
             [
              0.4444444444444444,
              "#bd3786"
             ],
             [
              0.5555555555555556,
              "#d8576b"
             ],
             [
              0.6666666666666666,
              "#ed7953"
             ],
             [
              0.7777777777777778,
              "#fb9f3a"
             ],
             [
              0.8888888888888888,
              "#fdca26"
             ],
             [
              1,
              "#f0f921"
             ]
            ],
            "type": "histogram2dcontour"
           }
          ],
          "mesh3d": [
           {
            "colorbar": {
             "outlinewidth": 0,
             "ticks": ""
            },
            "type": "mesh3d"
           }
          ],
          "parcoords": [
           {
            "line": {
             "colorbar": {
              "outlinewidth": 0,
              "ticks": ""
             }
            },
            "type": "parcoords"
           }
          ],
          "pie": [
           {
            "automargin": true,
            "type": "pie"
           }
          ],
          "scatter": [
           {
            "marker": {
             "colorbar": {
              "outlinewidth": 0,
              "ticks": ""
             }
            },
            "type": "scatter"
           }
          ],
          "scatter3d": [
           {
            "line": {
             "colorbar": {
              "outlinewidth": 0,
              "ticks": ""
             }
            },
            "marker": {
             "colorbar": {
              "outlinewidth": 0,
              "ticks": ""
             }
            },
            "type": "scatter3d"
           }
          ],
          "scattercarpet": [
           {
            "marker": {
             "colorbar": {
              "outlinewidth": 0,
              "ticks": ""
             }
            },
            "type": "scattercarpet"
           }
          ],
          "scattergeo": [
           {
            "marker": {
             "colorbar": {
              "outlinewidth": 0,
              "ticks": ""
             }
            },
            "type": "scattergeo"
           }
          ],
          "scattergl": [
           {
            "marker": {
             "colorbar": {
              "outlinewidth": 0,
              "ticks": ""
             }
            },
            "type": "scattergl"
           }
          ],
          "scattermapbox": [
           {
            "marker": {
             "colorbar": {
              "outlinewidth": 0,
              "ticks": ""
             }
            },
            "type": "scattermapbox"
           }
          ],
          "scatterpolar": [
           {
            "marker": {
             "colorbar": {
              "outlinewidth": 0,
              "ticks": ""
             }
            },
            "type": "scatterpolar"
           }
          ],
          "scatterpolargl": [
           {
            "marker": {
             "colorbar": {
              "outlinewidth": 0,
              "ticks": ""
             }
            },
            "type": "scatterpolargl"
           }
          ],
          "scatterternary": [
           {
            "marker": {
             "colorbar": {
              "outlinewidth": 0,
              "ticks": ""
             }
            },
            "type": "scatterternary"
           }
          ],
          "surface": [
           {
            "colorbar": {
             "outlinewidth": 0,
             "ticks": ""
            },
            "colorscale": [
             [
              0,
              "#0d0887"
             ],
             [
              0.1111111111111111,
              "#46039f"
             ],
             [
              0.2222222222222222,
              "#7201a8"
             ],
             [
              0.3333333333333333,
              "#9c179e"
             ],
             [
              0.4444444444444444,
              "#bd3786"
             ],
             [
              0.5555555555555556,
              "#d8576b"
             ],
             [
              0.6666666666666666,
              "#ed7953"
             ],
             [
              0.7777777777777778,
              "#fb9f3a"
             ],
             [
              0.8888888888888888,
              "#fdca26"
             ],
             [
              1,
              "#f0f921"
             ]
            ],
            "type": "surface"
           }
          ],
          "table": [
           {
            "cells": {
             "fill": {
              "color": "#EBF0F8"
             },
             "line": {
              "color": "white"
             }
            },
            "header": {
             "fill": {
              "color": "#C8D4E3"
             },
             "line": {
              "color": "white"
             }
            },
            "type": "table"
           }
          ]
         },
         "layout": {
          "annotationdefaults": {
           "arrowcolor": "#2a3f5f",
           "arrowhead": 0,
           "arrowwidth": 1
          },
          "coloraxis": {
           "colorbar": {
            "outlinewidth": 0,
            "ticks": ""
           }
          },
          "colorscale": {
           "diverging": [
            [
             0,
             "#8e0152"
            ],
            [
             0.1,
             "#c51b7d"
            ],
            [
             0.2,
             "#de77ae"
            ],
            [
             0.3,
             "#f1b6da"
            ],
            [
             0.4,
             "#fde0ef"
            ],
            [
             0.5,
             "#f7f7f7"
            ],
            [
             0.6,
             "#e6f5d0"
            ],
            [
             0.7,
             "#b8e186"
            ],
            [
             0.8,
             "#7fbc41"
            ],
            [
             0.9,
             "#4d9221"
            ],
            [
             1,
             "#276419"
            ]
           ],
           "sequential": [
            [
             0,
             "#0d0887"
            ],
            [
             0.1111111111111111,
             "#46039f"
            ],
            [
             0.2222222222222222,
             "#7201a8"
            ],
            [
             0.3333333333333333,
             "#9c179e"
            ],
            [
             0.4444444444444444,
             "#bd3786"
            ],
            [
             0.5555555555555556,
             "#d8576b"
            ],
            [
             0.6666666666666666,
             "#ed7953"
            ],
            [
             0.7777777777777778,
             "#fb9f3a"
            ],
            [
             0.8888888888888888,
             "#fdca26"
            ],
            [
             1,
             "#f0f921"
            ]
           ],
           "sequentialminus": [
            [
             0,
             "#0d0887"
            ],
            [
             0.1111111111111111,
             "#46039f"
            ],
            [
             0.2222222222222222,
             "#7201a8"
            ],
            [
             0.3333333333333333,
             "#9c179e"
            ],
            [
             0.4444444444444444,
             "#bd3786"
            ],
            [
             0.5555555555555556,
             "#d8576b"
            ],
            [
             0.6666666666666666,
             "#ed7953"
            ],
            [
             0.7777777777777778,
             "#fb9f3a"
            ],
            [
             0.8888888888888888,
             "#fdca26"
            ],
            [
             1,
             "#f0f921"
            ]
           ]
          },
          "colorway": [
           "#636efa",
           "#EF553B",
           "#00cc96",
           "#ab63fa",
           "#FFA15A",
           "#19d3f3",
           "#FF6692",
           "#B6E880",
           "#FF97FF",
           "#FECB52"
          ],
          "font": {
           "color": "#2a3f5f"
          },
          "geo": {
           "bgcolor": "white",
           "lakecolor": "white",
           "landcolor": "#E5ECF6",
           "showlakes": true,
           "showland": true,
           "subunitcolor": "white"
          },
          "hoverlabel": {
           "align": "left"
          },
          "hovermode": "closest",
          "mapbox": {
           "style": "light"
          },
          "paper_bgcolor": "white",
          "plot_bgcolor": "#E5ECF6",
          "polar": {
           "angularaxis": {
            "gridcolor": "white",
            "linecolor": "white",
            "ticks": ""
           },
           "bgcolor": "#E5ECF6",
           "radialaxis": {
            "gridcolor": "white",
            "linecolor": "white",
            "ticks": ""
           }
          },
          "scene": {
           "xaxis": {
            "backgroundcolor": "#E5ECF6",
            "gridcolor": "white",
            "gridwidth": 2,
            "linecolor": "white",
            "showbackground": true,
            "ticks": "",
            "zerolinecolor": "white"
           },
           "yaxis": {
            "backgroundcolor": "#E5ECF6",
            "gridcolor": "white",
            "gridwidth": 2,
            "linecolor": "white",
            "showbackground": true,
            "ticks": "",
            "zerolinecolor": "white"
           },
           "zaxis": {
            "backgroundcolor": "#E5ECF6",
            "gridcolor": "white",
            "gridwidth": 2,
            "linecolor": "white",
            "showbackground": true,
            "ticks": "",
            "zerolinecolor": "white"
           }
          },
          "shapedefaults": {
           "line": {
            "color": "#2a3f5f"
           }
          },
          "ternary": {
           "aaxis": {
            "gridcolor": "white",
            "linecolor": "white",
            "ticks": ""
           },
           "baxis": {
            "gridcolor": "white",
            "linecolor": "white",
            "ticks": ""
           },
           "bgcolor": "#E5ECF6",
           "caxis": {
            "gridcolor": "white",
            "linecolor": "white",
            "ticks": ""
           }
          },
          "title": {
           "x": 0.05
          },
          "xaxis": {
           "automargin": true,
           "gridcolor": "white",
           "linecolor": "white",
           "ticks": "",
           "title": {
            "standoff": 15
           },
           "zerolinecolor": "white",
           "zerolinewidth": 2
          },
          "yaxis": {
           "automargin": true,
           "gridcolor": "white",
           "linecolor": "white",
           "ticks": "",
           "title": {
            "standoff": 15
           },
           "zerolinecolor": "white",
           "zerolinewidth": 2
          }
         }
        },
        "title": {
         "text": "<b>Democrates Ballot vs. Covid Deaths in the US</b>"
        },
        "xaxis": {
         "anchor": "y",
         "domain": [
          0,
          0.94
         ],
         "title": {
          "text": "<b>Weeks</b>"
         }
        },
        "yaxis": {
         "anchor": "x",
         "domain": [
          0,
          1
         ],
         "title": {
          "text": "<b>Covid Deaths in US</b>"
         }
        },
        "yaxis2": {
         "anchor": "x",
         "overlaying": "y",
         "side": "right",
         "title": {
          "text": "<b>Democrates Ballot</b>"
         }
        }
       }
      },
      "text/html": [
       "<div>\n",
       "        \n",
       "        \n",
       "            <div id=\"eb91f180-5266-4dd4-8a57-05dfe4d23da4\" class=\"plotly-graph-div\" style=\"height:525px; width:100%;\"></div>\n",
       "            <script type=\"text/javascript\">\n",
       "                require([\"plotly\"], function(Plotly) {\n",
       "                    window.PLOTLYENV=window.PLOTLYENV || {};\n",
       "                    \n",
       "                if (document.getElementById(\"eb91f180-5266-4dd4-8a57-05dfe4d23da4\")) {\n",
       "                    Plotly.newPlot(\n",
       "                        'eb91f180-5266-4dd4-8a57-05dfe4d23da4',\n",
       "                        [{\"marker\": {\"color\": \"green\"}, \"type\": \"bar\", \"x\": [\"2020-01-26T00:00:00\", \"2020-02-02T00:00:00\", \"2020-02-09T00:00:00\", \"2020-02-16T00:00:00\", \"2020-02-23T00:00:00\", \"2020-03-01T00:00:00\", \"2020-03-08T00:00:00\", \"2020-03-15T00:00:00\", \"2020-03-22T00:00:00\", \"2020-03-29T00:00:00\", \"2020-04-05T00:00:00\", \"2020-04-12T00:00:00\", \"2020-04-19T00:00:00\", \"2020-04-26T00:00:00\", \"2020-05-03T00:00:00\", \"2020-05-10T00:00:00\", \"2020-05-17T00:00:00\", \"2020-05-24T00:00:00\", \"2020-05-31T00:00:00\", \"2020-06-07T00:00:00\", \"2020-06-14T00:00:00\", \"2020-06-21T00:00:00\", \"2020-06-28T00:00:00\", \"2020-07-05T00:00:00\", \"2020-07-12T00:00:00\", \"2020-07-19T00:00:00\"], \"y\": [0.0, 0.0, 0.0, 0.0, 0.0, 0.0, 17.0, 49.5, 287.5, 1479.3333333333333, 7004.0, 17850.0, 36052.0, 47608.8, 62783.25, 72504.25, 84508.0, 93642.66666666667, 100146.5, 107358.66666666667, 113376.4, 117668.0, 123614.75, 127296.5, 133133.0, 136356.0]}, {\"line\": {\"color\": \"blue\", \"width\": 4}, \"mode\": \"markers+lines\", \"type\": \"scatter\", \"x\": [\"2020-01-26T00:00:00\", \"2020-02-02T00:00:00\", \"2020-02-09T00:00:00\", \"2020-02-16T00:00:00\", \"2020-02-23T00:00:00\", \"2020-03-01T00:00:00\", \"2020-03-08T00:00:00\", \"2020-03-15T00:00:00\", \"2020-03-22T00:00:00\", \"2020-03-29T00:00:00\", \"2020-04-05T00:00:00\", \"2020-04-12T00:00:00\", \"2020-04-19T00:00:00\", \"2020-04-26T00:00:00\", \"2020-05-03T00:00:00\", \"2020-05-10T00:00:00\", \"2020-05-17T00:00:00\", \"2020-05-24T00:00:00\", \"2020-05-31T00:00:00\", \"2020-06-07T00:00:00\", \"2020-06-14T00:00:00\", \"2020-06-21T00:00:00\", \"2020-06-28T00:00:00\", \"2020-07-05T00:00:00\", \"2020-07-12T00:00:00\", \"2020-07-19T00:00:00\"], \"xaxis\": \"x\", \"y\": [45.997958, 48.4670065, 47.997958, 48.43345866666667, 47.997958, 49.822521, 50.46166866666667, 48.469365499999995, 48.997958, 48.476375, 48.790693, 47.1061375, 48.086748666666665, 46.5470178, 47.393856, 48.510401, 47.634009666666664, 47.667342999999995, 48.05471975, 48.681093833333335, 48.23337, 48.76585675, 48.606712, 49.76308025, 48.9670065, 48.322521], \"yaxis\": \"y2\"}],\n",
       "                        {\"autosize\": false, \"font\": {\"color\": \"darkgoldenrod\", \"family\": \"Arial, monospace\", \"size\": 14}, \"showlegend\": false, \"template\": {\"data\": {\"bar\": [{\"error_x\": {\"color\": \"#2a3f5f\"}, \"error_y\": {\"color\": \"#2a3f5f\"}, \"marker\": {\"line\": {\"color\": \"#E5ECF6\", \"width\": 0.5}}, \"type\": \"bar\"}], \"barpolar\": [{\"marker\": {\"line\": {\"color\": \"#E5ECF6\", \"width\": 0.5}}, \"type\": \"barpolar\"}], \"carpet\": [{\"aaxis\": {\"endlinecolor\": \"#2a3f5f\", \"gridcolor\": \"white\", \"linecolor\": \"white\", \"minorgridcolor\": \"white\", \"startlinecolor\": \"#2a3f5f\"}, \"baxis\": {\"endlinecolor\": \"#2a3f5f\", \"gridcolor\": \"white\", \"linecolor\": \"white\", \"minorgridcolor\": \"white\", \"startlinecolor\": \"#2a3f5f\"}, \"type\": \"carpet\"}], \"choropleth\": [{\"colorbar\": {\"outlinewidth\": 0, \"ticks\": \"\"}, \"type\": \"choropleth\"}], \"contour\": [{\"colorbar\": {\"outlinewidth\": 0, \"ticks\": \"\"}, \"colorscale\": [[0.0, \"#0d0887\"], [0.1111111111111111, \"#46039f\"], [0.2222222222222222, \"#7201a8\"], [0.3333333333333333, \"#9c179e\"], [0.4444444444444444, \"#bd3786\"], [0.5555555555555556, \"#d8576b\"], [0.6666666666666666, \"#ed7953\"], [0.7777777777777778, \"#fb9f3a\"], [0.8888888888888888, \"#fdca26\"], [1.0, \"#f0f921\"]], \"type\": \"contour\"}], \"contourcarpet\": [{\"colorbar\": {\"outlinewidth\": 0, \"ticks\": \"\"}, \"type\": \"contourcarpet\"}], \"heatmap\": [{\"colorbar\": {\"outlinewidth\": 0, \"ticks\": \"\"}, \"colorscale\": [[0.0, \"#0d0887\"], [0.1111111111111111, \"#46039f\"], [0.2222222222222222, \"#7201a8\"], [0.3333333333333333, \"#9c179e\"], [0.4444444444444444, \"#bd3786\"], [0.5555555555555556, \"#d8576b\"], [0.6666666666666666, \"#ed7953\"], [0.7777777777777778, \"#fb9f3a\"], [0.8888888888888888, \"#fdca26\"], [1.0, \"#f0f921\"]], \"type\": \"heatmap\"}], \"heatmapgl\": [{\"colorbar\": {\"outlinewidth\": 0, \"ticks\": \"\"}, \"colorscale\": [[0.0, \"#0d0887\"], [0.1111111111111111, \"#46039f\"], [0.2222222222222222, \"#7201a8\"], [0.3333333333333333, \"#9c179e\"], [0.4444444444444444, \"#bd3786\"], [0.5555555555555556, \"#d8576b\"], [0.6666666666666666, \"#ed7953\"], [0.7777777777777778, \"#fb9f3a\"], [0.8888888888888888, \"#fdca26\"], [1.0, \"#f0f921\"]], \"type\": \"heatmapgl\"}], \"histogram\": [{\"marker\": {\"colorbar\": {\"outlinewidth\": 0, \"ticks\": \"\"}}, \"type\": \"histogram\"}], \"histogram2d\": [{\"colorbar\": {\"outlinewidth\": 0, \"ticks\": \"\"}, \"colorscale\": [[0.0, \"#0d0887\"], [0.1111111111111111, \"#46039f\"], [0.2222222222222222, \"#7201a8\"], [0.3333333333333333, \"#9c179e\"], [0.4444444444444444, \"#bd3786\"], [0.5555555555555556, \"#d8576b\"], [0.6666666666666666, \"#ed7953\"], [0.7777777777777778, \"#fb9f3a\"], [0.8888888888888888, \"#fdca26\"], [1.0, \"#f0f921\"]], \"type\": \"histogram2d\"}], \"histogram2dcontour\": [{\"colorbar\": {\"outlinewidth\": 0, \"ticks\": \"\"}, \"colorscale\": [[0.0, \"#0d0887\"], [0.1111111111111111, \"#46039f\"], [0.2222222222222222, \"#7201a8\"], [0.3333333333333333, \"#9c179e\"], [0.4444444444444444, \"#bd3786\"], [0.5555555555555556, \"#d8576b\"], [0.6666666666666666, \"#ed7953\"], [0.7777777777777778, \"#fb9f3a\"], [0.8888888888888888, \"#fdca26\"], [1.0, \"#f0f921\"]], \"type\": \"histogram2dcontour\"}], \"mesh3d\": [{\"colorbar\": {\"outlinewidth\": 0, \"ticks\": \"\"}, \"type\": \"mesh3d\"}], \"parcoords\": [{\"line\": {\"colorbar\": {\"outlinewidth\": 0, \"ticks\": \"\"}}, \"type\": \"parcoords\"}], \"pie\": [{\"automargin\": true, \"type\": \"pie\"}], \"scatter\": [{\"marker\": {\"colorbar\": {\"outlinewidth\": 0, \"ticks\": \"\"}}, \"type\": \"scatter\"}], \"scatter3d\": [{\"line\": {\"colorbar\": {\"outlinewidth\": 0, \"ticks\": \"\"}}, \"marker\": {\"colorbar\": {\"outlinewidth\": 0, \"ticks\": \"\"}}, \"type\": \"scatter3d\"}], \"scattercarpet\": [{\"marker\": {\"colorbar\": {\"outlinewidth\": 0, \"ticks\": \"\"}}, \"type\": \"scattercarpet\"}], \"scattergeo\": [{\"marker\": {\"colorbar\": {\"outlinewidth\": 0, \"ticks\": \"\"}}, \"type\": \"scattergeo\"}], \"scattergl\": [{\"marker\": {\"colorbar\": {\"outlinewidth\": 0, \"ticks\": \"\"}}, \"type\": \"scattergl\"}], \"scattermapbox\": [{\"marker\": {\"colorbar\": {\"outlinewidth\": 0, \"ticks\": \"\"}}, \"type\": \"scattermapbox\"}], \"scatterpolar\": [{\"marker\": {\"colorbar\": {\"outlinewidth\": 0, \"ticks\": \"\"}}, \"type\": \"scatterpolar\"}], \"scatterpolargl\": [{\"marker\": {\"colorbar\": {\"outlinewidth\": 0, \"ticks\": \"\"}}, \"type\": \"scatterpolargl\"}], \"scatterternary\": [{\"marker\": {\"colorbar\": {\"outlinewidth\": 0, \"ticks\": \"\"}}, \"type\": \"scatterternary\"}], \"surface\": [{\"colorbar\": {\"outlinewidth\": 0, \"ticks\": \"\"}, \"colorscale\": [[0.0, \"#0d0887\"], [0.1111111111111111, \"#46039f\"], [0.2222222222222222, \"#7201a8\"], [0.3333333333333333, \"#9c179e\"], [0.4444444444444444, \"#bd3786\"], [0.5555555555555556, \"#d8576b\"], [0.6666666666666666, \"#ed7953\"], [0.7777777777777778, \"#fb9f3a\"], [0.8888888888888888, \"#fdca26\"], [1.0, \"#f0f921\"]], \"type\": \"surface\"}], \"table\": [{\"cells\": {\"fill\": {\"color\": \"#EBF0F8\"}, \"line\": {\"color\": \"white\"}}, \"header\": {\"fill\": {\"color\": \"#C8D4E3\"}, \"line\": {\"color\": \"white\"}}, \"type\": \"table\"}]}, \"layout\": {\"annotationdefaults\": {\"arrowcolor\": \"#2a3f5f\", \"arrowhead\": 0, \"arrowwidth\": 1}, \"coloraxis\": {\"colorbar\": {\"outlinewidth\": 0, \"ticks\": \"\"}}, \"colorscale\": {\"diverging\": [[0, \"#8e0152\"], [0.1, \"#c51b7d\"], [0.2, \"#de77ae\"], [0.3, \"#f1b6da\"], [0.4, \"#fde0ef\"], [0.5, \"#f7f7f7\"], [0.6, \"#e6f5d0\"], [0.7, \"#b8e186\"], [0.8, \"#7fbc41\"], [0.9, \"#4d9221\"], [1, \"#276419\"]], \"sequential\": [[0.0, \"#0d0887\"], [0.1111111111111111, \"#46039f\"], [0.2222222222222222, \"#7201a8\"], [0.3333333333333333, \"#9c179e\"], [0.4444444444444444, \"#bd3786\"], [0.5555555555555556, \"#d8576b\"], [0.6666666666666666, \"#ed7953\"], [0.7777777777777778, \"#fb9f3a\"], [0.8888888888888888, \"#fdca26\"], [1.0, \"#f0f921\"]], \"sequentialminus\": [[0.0, \"#0d0887\"], [0.1111111111111111, \"#46039f\"], [0.2222222222222222, \"#7201a8\"], [0.3333333333333333, \"#9c179e\"], [0.4444444444444444, \"#bd3786\"], [0.5555555555555556, \"#d8576b\"], [0.6666666666666666, \"#ed7953\"], [0.7777777777777778, \"#fb9f3a\"], [0.8888888888888888, \"#fdca26\"], [1.0, \"#f0f921\"]]}, \"colorway\": [\"#636efa\", \"#EF553B\", \"#00cc96\", \"#ab63fa\", \"#FFA15A\", \"#19d3f3\", \"#FF6692\", \"#B6E880\", \"#FF97FF\", \"#FECB52\"], \"font\": {\"color\": \"#2a3f5f\"}, \"geo\": {\"bgcolor\": \"white\", \"lakecolor\": \"white\", \"landcolor\": \"#E5ECF6\", \"showlakes\": true, \"showland\": true, \"subunitcolor\": \"white\"}, \"hoverlabel\": {\"align\": \"left\"}, \"hovermode\": \"closest\", \"mapbox\": {\"style\": \"light\"}, \"paper_bgcolor\": \"white\", \"plot_bgcolor\": \"#E5ECF6\", \"polar\": {\"angularaxis\": {\"gridcolor\": \"white\", \"linecolor\": \"white\", \"ticks\": \"\"}, \"bgcolor\": \"#E5ECF6\", \"radialaxis\": {\"gridcolor\": \"white\", \"linecolor\": \"white\", \"ticks\": \"\"}}, \"scene\": {\"xaxis\": {\"backgroundcolor\": \"#E5ECF6\", \"gridcolor\": \"white\", \"gridwidth\": 2, \"linecolor\": \"white\", \"showbackground\": true, \"ticks\": \"\", \"zerolinecolor\": \"white\"}, \"yaxis\": {\"backgroundcolor\": \"#E5ECF6\", \"gridcolor\": \"white\", \"gridwidth\": 2, \"linecolor\": \"white\", \"showbackground\": true, \"ticks\": \"\", \"zerolinecolor\": \"white\"}, \"zaxis\": {\"backgroundcolor\": \"#E5ECF6\", \"gridcolor\": \"white\", \"gridwidth\": 2, \"linecolor\": \"white\", \"showbackground\": true, \"ticks\": \"\", \"zerolinecolor\": \"white\"}}, \"shapedefaults\": {\"line\": {\"color\": \"#2a3f5f\"}}, \"ternary\": {\"aaxis\": {\"gridcolor\": \"white\", \"linecolor\": \"white\", \"ticks\": \"\"}, \"baxis\": {\"gridcolor\": \"white\", \"linecolor\": \"white\", \"ticks\": \"\"}, \"bgcolor\": \"#E5ECF6\", \"caxis\": {\"gridcolor\": \"white\", \"linecolor\": \"white\", \"ticks\": \"\"}}, \"title\": {\"x\": 0.05}, \"xaxis\": {\"automargin\": true, \"gridcolor\": \"white\", \"linecolor\": \"white\", \"ticks\": \"\", \"title\": {\"standoff\": 15}, \"zerolinecolor\": \"white\", \"zerolinewidth\": 2}, \"yaxis\": {\"automargin\": true, \"gridcolor\": \"white\", \"linecolor\": \"white\", \"ticks\": \"\", \"title\": {\"standoff\": 15}, \"zerolinecolor\": \"white\", \"zerolinewidth\": 2}}}, \"title\": {\"text\": \"<b>Democrates Ballot vs. Covid Deaths in the US</b>\"}, \"xaxis\": {\"anchor\": \"y\", \"domain\": [0.0, 0.94], \"title\": {\"text\": \"<b>Weeks</b>\"}}, \"yaxis\": {\"anchor\": \"x\", \"domain\": [0.0, 1.0], \"title\": {\"text\": \"<b>Covid Deaths in US</b>\"}}, \"yaxis2\": {\"anchor\": \"x\", \"overlaying\": \"y\", \"side\": \"right\", \"title\": {\"text\": \"<b>Democrates Ballot</b>\"}}},\n",
       "                        {\"responsive\": true}\n",
       "                    ).then(function(){\n",
       "                            \n",
       "var gd = document.getElementById('eb91f180-5266-4dd4-8a57-05dfe4d23da4');\n",
       "var x = new MutationObserver(function (mutations, observer) {{\n",
       "        var display = window.getComputedStyle(gd).display;\n",
       "        if (!display || display === 'none') {{\n",
       "            console.log([gd, 'removed!']);\n",
       "            Plotly.purge(gd);\n",
       "            observer.disconnect();\n",
       "        }}\n",
       "}});\n",
       "\n",
       "// Listen for the removal of the full notebook cells\n",
       "var notebookContainer = gd.closest('#notebook-container');\n",
       "if (notebookContainer) {{\n",
       "    x.observe(notebookContainer, {childList: true});\n",
       "}}\n",
       "\n",
       "// Listen for the clearing of the current output cell\n",
       "var outputEl = gd.closest('.output');\n",
       "if (outputEl) {{\n",
       "    x.observe(outputEl, {childList: true});\n",
       "}}\n",
       "\n",
       "                        })\n",
       "                };\n",
       "                });\n",
       "            </script>\n",
       "        </div>"
      ]
     },
     "metadata": {},
     "output_type": "display_data"
    }
   ],
   "source": [
    "# Make figure overlaying COVID Deaths and Democrates Rating\n",
    "fig = make_subplots(specs=[[{\"secondary_y\": True}]])\n",
    "\n",
    "# Add traces\n",
    "fig.add_trace(go.Bar(x=bin['week'], y=bin['deaths'], marker_color='green'))\n",
    "\n",
    "fig.add_trace(go.Scatter(x=bin['week'], y=bin['dem'], mode = 'markers+lines', line=dict(color='blue', width=4)), secondary_y=True)\n",
    "\n",
    "fig.update_layout(title=\"<b>Democrates Ballot vs. Covid Deaths in the US</b>\", xaxis_title=\"<b>Weeks</b>\", \n",
    "                  yaxis_title=\"<b>Covid Deaths in US</b>\", showlegend=False, autosize=False, font=dict(family=\"Arial, monospace\",size=14,color=\"darkgoldenrod\"))\n",
    "fig.update_yaxes(title_text=\"<b>Democrates Ballot</b>\", secondary_y=True)"
   ]
  },
  {
   "cell_type": "code",
   "execution_count": null,
   "metadata": {},
   "outputs": [],
   "source": []
  }
 ],
 "metadata": {
  "kernelspec": {
   "display_name": "Python 3",
   "language": "python",
   "name": "python3"
  },
  "language_info": {
   "codemirror_mode": {
    "name": "ipython",
    "version": 3
   },
   "file_extension": ".py",
   "mimetype": "text/x-python",
   "name": "python",
   "nbconvert_exporter": "python",
   "pygments_lexer": "ipython3",
   "version": "3.6.10"
  }
 },
 "nbformat": 4,
 "nbformat_minor": 4
}
